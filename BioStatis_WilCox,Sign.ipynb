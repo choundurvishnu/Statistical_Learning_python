{
 "cells": [
  {
   "cell_type": "code",
   "execution_count": null,
   "id": "d72a6936",
   "metadata": {},
   "outputs": [],
   "source": []
  },
  {
   "cell_type": "code",
   "execution_count": 5,
   "id": "071b7155",
   "metadata": {},
   "outputs": [],
   "source": [
    "import pandas\n",
    "data = pandas.read_csv('C:\\\\Users\\\\choun\\\\OneDrive\\\\Desktop\\\\PUBH_RamaKrishna_Gurram\\\\DAA.csv')"
   ]
  },
  {
   "cell_type": "code",
   "execution_count": 6,
   "id": "bf579a47",
   "metadata": {},
   "outputs": [
    {
     "data": {
      "text/html": [
       "<div>\n",
       "<style scoped>\n",
       "    .dataframe tbody tr th:only-of-type {\n",
       "        vertical-align: middle;\n",
       "    }\n",
       "\n",
       "    .dataframe tbody tr th {\n",
       "        vertical-align: top;\n",
       "    }\n",
       "\n",
       "    .dataframe thead th {\n",
       "        text-align: right;\n",
       "    }\n",
       "</style>\n",
       "<table border=\"1\" class=\"dataframe\">\n",
       "  <thead>\n",
       "    <tr style=\"text-align: right;\">\n",
       "      <th></th>\n",
       "      <th>math score</th>\n",
       "      <th>competency</th>\n",
       "      <th>Literacy A</th>\n",
       "      <th>Literacy_baseline</th>\n",
       "      <th>Literacy B</th>\n",
       "    </tr>\n",
       "  </thead>\n",
       "  <tbody>\n",
       "    <tr>\n",
       "      <th>count</th>\n",
       "      <td>16.000000</td>\n",
       "      <td>16.000000</td>\n",
       "      <td>16.000000</td>\n",
       "      <td>16.000000</td>\n",
       "      <td>16.000000</td>\n",
       "    </tr>\n",
       "    <tr>\n",
       "      <th>mean</th>\n",
       "      <td>37.625000</td>\n",
       "      <td>9.250000</td>\n",
       "      <td>9.781250</td>\n",
       "      <td>7.306250</td>\n",
       "      <td>12.125000</td>\n",
       "    </tr>\n",
       "    <tr>\n",
       "      <th>std</th>\n",
       "      <td>8.515672</td>\n",
       "      <td>2.435843</td>\n",
       "      <td>1.332276</td>\n",
       "      <td>1.137523</td>\n",
       "      <td>6.130525</td>\n",
       "    </tr>\n",
       "    <tr>\n",
       "      <th>min</th>\n",
       "      <td>19.000000</td>\n",
       "      <td>5.000000</td>\n",
       "      <td>7.000000</td>\n",
       "      <td>5.800000</td>\n",
       "      <td>4.000000</td>\n",
       "    </tr>\n",
       "    <tr>\n",
       "      <th>25%</th>\n",
       "      <td>34.750000</td>\n",
       "      <td>7.750000</td>\n",
       "      <td>9.100000</td>\n",
       "      <td>6.425000</td>\n",
       "      <td>7.750000</td>\n",
       "    </tr>\n",
       "    <tr>\n",
       "      <th>50%</th>\n",
       "      <td>39.500000</td>\n",
       "      <td>10.000000</td>\n",
       "      <td>9.900000</td>\n",
       "      <td>7.050000</td>\n",
       "      <td>11.000000</td>\n",
       "    </tr>\n",
       "    <tr>\n",
       "      <th>75%</th>\n",
       "      <td>42.000000</td>\n",
       "      <td>11.000000</td>\n",
       "      <td>10.425000</td>\n",
       "      <td>8.150000</td>\n",
       "      <td>15.000000</td>\n",
       "    </tr>\n",
       "    <tr>\n",
       "      <th>max</th>\n",
       "      <td>49.000000</td>\n",
       "      <td>13.000000</td>\n",
       "      <td>12.000000</td>\n",
       "      <td>9.400000</td>\n",
       "      <td>24.000000</td>\n",
       "    </tr>\n",
       "  </tbody>\n",
       "</table>\n",
       "</div>"
      ],
      "text/plain": [
       "       math score  competency  Literacy A  Literacy_baseline  Literacy B\n",
       "count   16.000000   16.000000   16.000000          16.000000   16.000000\n",
       "mean    37.625000    9.250000    9.781250           7.306250   12.125000\n",
       "std      8.515672    2.435843    1.332276           1.137523    6.130525\n",
       "min     19.000000    5.000000    7.000000           5.800000    4.000000\n",
       "25%     34.750000    7.750000    9.100000           6.425000    7.750000\n",
       "50%     39.500000   10.000000    9.900000           7.050000   11.000000\n",
       "75%     42.000000   11.000000   10.425000           8.150000   15.000000\n",
       "max     49.000000   13.000000   12.000000           9.400000   24.000000"
      ]
     },
     "execution_count": 6,
     "metadata": {},
     "output_type": "execute_result"
    }
   ],
   "source": [
    "data.describe()"
   ]
  },
  {
   "cell_type": "code",
   "execution_count": 8,
   "id": "6d44012e",
   "metadata": {},
   "outputs": [
    {
     "data": {
      "text/plain": [
       "9.1"
      ]
     },
     "execution_count": 8,
     "metadata": {},
     "output_type": "execute_result"
    }
   ],
   "source": [
    "import numpy\n",
    "numpy.percentile(data['Literacy A'],25)"
   ]
  },
  {
   "cell_type": "code",
   "execution_count": 10,
   "id": "9ad7ace2",
   "metadata": {},
   "outputs": [
    {
     "ename": "SyntaxError",
     "evalue": "incomplete input (1484836779.py, line 2)",
     "output_type": "error",
     "traceback": [
      "\u001b[1;36m  Cell \u001b[1;32mIn[10], line 2\u001b[1;36m\u001b[0m\n\u001b[1;33m    #print(numpy.percentile(data[col],75))\u001b[0m\n\u001b[1;37m                                          ^\u001b[0m\n\u001b[1;31mSyntaxError\u001b[0m\u001b[1;31m:\u001b[0m incomplete input\n"
     ]
    }
   ],
   "source": [
    "for col in data.columns:\n",
    "    #print(numpy.percentile(data[col],75))"
   ]
  },
  {
   "cell_type": "code",
   "execution_count": 11,
   "id": "dee0081d",
   "metadata": {},
   "outputs": [
    {
     "name": "stdout",
     "output_type": "stream",
     "text": [
      "42    4\n",
      "39    3\n",
      "46    2\n",
      "19    1\n",
      "40    1\n",
      "36    1\n",
      "49    1\n",
      "22    1\n",
      "28    1\n",
      "31    1\n",
      "Name: math score, dtype: int64\n",
      "11    4\n",
      "10    3\n",
      "5     2\n",
      "9     2\n",
      "8     1\n",
      "12    1\n",
      "13    1\n",
      "7     1\n",
      "6     1\n",
      "Name: competency, dtype: int64\n",
      "Brown    10\n",
      "Blue      6\n",
      "Name: eye color, dtype: int64\n",
      "Right    12\n",
      "Left      4\n",
      "Name: handedness, dtype: int64\n",
      "M    8\n",
      "F    8\n",
      "Name: Gender, dtype: int64\n",
      "10.4    2\n",
      "9.6     2\n",
      "12.0    2\n",
      "10.5    2\n",
      "10.1    1\n",
      "7.7     1\n",
      "10.3    1\n",
      "9.2     1\n",
      "8.8     1\n",
      "8.7     1\n",
      "9.7     1\n",
      "7.0     1\n",
      "Name: Literacy A, dtype: int64\n",
      "7.0    2\n",
      "7.5    2\n",
      "6.8    1\n",
      "8.0    1\n",
      "8.6    1\n",
      "9.4    1\n",
      "6.2    1\n",
      "7.1    1\n",
      "5.9    1\n",
      "6.5    1\n",
      "5.8    1\n",
      "8.9    1\n",
      "8.7    1\n",
      "6.0    1\n",
      "Name: Literacy_baseline, dtype: int64\n",
      "10    2\n",
      "11    2\n",
      "4     2\n",
      "24    1\n",
      "20    1\n",
      "14    1\n",
      "22    1\n",
      "6     1\n",
      "7     1\n",
      "8     1\n",
      "13    1\n",
      "12    1\n",
      "18    1\n",
      "Name: Literacy B, dtype: int64\n"
     ]
    }
   ],
   "source": [
    "for col in data.columns:\n",
    "    print(data[col].value_counts())"
   ]
  },
  {
   "cell_type": "code",
   "execution_count": 2,
   "id": "0feee3d2",
   "metadata": {},
   "outputs": [],
   "source": [
    "import pandas\n",
    "import scipy.stats as stats\n",
    "from scipy.stats import binom "
   ]
  },
  {
   "cell_type": "code",
   "execution_count": 27,
   "id": "bedc1a0e",
   "metadata": {},
   "outputs": [],
   "source": [
    "data = pandas.read_csv('C:\\\\Users\\\\choun\\\\Downloads\\\\DatasetD 2024 (1).csv')"
   ]
  },
  {
   "cell_type": "code",
   "execution_count": 28,
   "id": "c4f4eaec",
   "metadata": {},
   "outputs": [
    {
     "data": {
      "text/html": [
       "<div>\n",
       "<style scoped>\n",
       "    .dataframe tbody tr th:only-of-type {\n",
       "        vertical-align: middle;\n",
       "    }\n",
       "\n",
       "    .dataframe tbody tr th {\n",
       "        vertical-align: top;\n",
       "    }\n",
       "\n",
       "    .dataframe thead th {\n",
       "        text-align: right;\n",
       "    }\n",
       "</style>\n",
       "<table border=\"1\" class=\"dataframe\">\n",
       "  <thead>\n",
       "    <tr style=\"text-align: right;\">\n",
       "      <th></th>\n",
       "      <th>Person ID</th>\n",
       "      <th>education_after</th>\n",
       "      <th>education_before</th>\n",
       "      <th>diet_exercise_program A</th>\n",
       "      <th>health score</th>\n",
       "      <th>competency</th>\n",
       "      <th>exercise level</th>\n",
       "      <th>gender</th>\n",
       "      <th>disease status</th>\n",
       "    </tr>\n",
       "  </thead>\n",
       "  <tbody>\n",
       "    <tr>\n",
       "      <th>0</th>\n",
       "      <td>1</td>\n",
       "      <td>9.6</td>\n",
       "      <td>5.8</td>\n",
       "      <td>6.3</td>\n",
       "      <td>43</td>\n",
       "      <td>16</td>\n",
       "      <td>Low</td>\n",
       "      <td>Female</td>\n",
       "      <td>1</td>\n",
       "    </tr>\n",
       "    <tr>\n",
       "      <th>1</th>\n",
       "      <td>2</td>\n",
       "      <td>10.5</td>\n",
       "      <td>5.9</td>\n",
       "      <td>0.5</td>\n",
       "      <td>42</td>\n",
       "      <td>13</td>\n",
       "      <td>High</td>\n",
       "      <td>Female</td>\n",
       "      <td>0</td>\n",
       "    </tr>\n",
       "    <tr>\n",
       "      <th>2</th>\n",
       "      <td>3</td>\n",
       "      <td>9.7</td>\n",
       "      <td>6.0</td>\n",
       "      <td>2.6</td>\n",
       "      <td>36</td>\n",
       "      <td>17</td>\n",
       "      <td>Low</td>\n",
       "      <td>Female</td>\n",
       "      <td>1</td>\n",
       "    </tr>\n",
       "    <tr>\n",
       "      <th>3</th>\n",
       "      <td>4</td>\n",
       "      <td>12.0</td>\n",
       "      <td>6.2</td>\n",
       "      <td>7.9</td>\n",
       "      <td>26</td>\n",
       "      <td>17</td>\n",
       "      <td>High</td>\n",
       "      <td>Male</td>\n",
       "      <td>0</td>\n",
       "    </tr>\n",
       "    <tr>\n",
       "      <th>4</th>\n",
       "      <td>5</td>\n",
       "      <td>10.4</td>\n",
       "      <td>6.5</td>\n",
       "      <td>8.2</td>\n",
       "      <td>40</td>\n",
       "      <td>7</td>\n",
       "      <td>High</td>\n",
       "      <td>Male</td>\n",
       "      <td>1</td>\n",
       "    </tr>\n",
       "    <tr>\n",
       "      <th>5</th>\n",
       "      <td>6</td>\n",
       "      <td>10.1</td>\n",
       "      <td>6.8</td>\n",
       "      <td>-0.3</td>\n",
       "      <td>33</td>\n",
       "      <td>18</td>\n",
       "      <td>High</td>\n",
       "      <td>Male</td>\n",
       "      <td>0</td>\n",
       "    </tr>\n",
       "    <tr>\n",
       "      <th>6</th>\n",
       "      <td>7</td>\n",
       "      <td>9.6</td>\n",
       "      <td>7.0</td>\n",
       "      <td>3.7</td>\n",
       "      <td>34</td>\n",
       "      <td>6</td>\n",
       "      <td>Low</td>\n",
       "      <td>Male</td>\n",
       "      <td>1</td>\n",
       "    </tr>\n",
       "    <tr>\n",
       "      <th>7</th>\n",
       "      <td>8</td>\n",
       "      <td>7.0</td>\n",
       "      <td>6.0</td>\n",
       "      <td>3.2</td>\n",
       "      <td>50</td>\n",
       "      <td>18</td>\n",
       "      <td>High</td>\n",
       "      <td>Male</td>\n",
       "      <td>0</td>\n",
       "    </tr>\n",
       "    <tr>\n",
       "      <th>8</th>\n",
       "      <td>9</td>\n",
       "      <td>9.2</td>\n",
       "      <td>6.1</td>\n",
       "      <td>3</td>\n",
       "      <td>46</td>\n",
       "      <td>11</td>\n",
       "      <td>High</td>\n",
       "      <td>Male</td>\n",
       "      <td>1</td>\n",
       "    </tr>\n",
       "    <tr>\n",
       "      <th>9</th>\n",
       "      <td>10</td>\n",
       "      <td>10.3</td>\n",
       "      <td>7.5</td>\n",
       "      <td>0.6</td>\n",
       "      <td>49</td>\n",
       "      <td>19</td>\n",
       "      <td>High</td>\n",
       "      <td>Male</td>\n",
       "      <td>0</td>\n",
       "    </tr>\n",
       "    <tr>\n",
       "      <th>10</th>\n",
       "      <td>11</td>\n",
       "      <td>10.5</td>\n",
       "      <td>7.5</td>\n",
       "      <td>18.7</td>\n",
       "      <td>41</td>\n",
       "      <td>20</td>\n",
       "      <td>Low</td>\n",
       "      <td>Male</td>\n",
       "      <td>1</td>\n",
       "    </tr>\n",
       "    <tr>\n",
       "      <th>11</th>\n",
       "      <td>12</td>\n",
       "      <td>10.4</td>\n",
       "      <td>7.0</td>\n",
       "      <td>1.5</td>\n",
       "      <td>43</td>\n",
       "      <td>8</td>\n",
       "      <td>Low</td>\n",
       "      <td>Female</td>\n",
       "      <td>0</td>\n",
       "    </tr>\n",
       "    <tr>\n",
       "      <th>12</th>\n",
       "      <td>13</td>\n",
       "      <td>6.7</td>\n",
       "      <td>8.6</td>\n",
       "      <td>3</td>\n",
       "      <td>38</td>\n",
       "      <td>13</td>\n",
       "      <td>Low</td>\n",
       "      <td>Male</td>\n",
       "      <td>1</td>\n",
       "    </tr>\n",
       "    <tr>\n",
       "      <th>13</th>\n",
       "      <td>14</td>\n",
       "      <td>7.7</td>\n",
       "      <td>8.7</td>\n",
       "      <td>14.7</td>\n",
       "      <td>46</td>\n",
       "      <td>5</td>\n",
       "      <td>Low</td>\n",
       "      <td>Male</td>\n",
       "      <td>1</td>\n",
       "    </tr>\n",
       "    <tr>\n",
       "      <th>14</th>\n",
       "      <td>15</td>\n",
       "      <td>8.8</td>\n",
       "      <td>8.9</td>\n",
       "      <td>7</td>\n",
       "      <td>44</td>\n",
       "      <td>17</td>\n",
       "      <td>High</td>\n",
       "      <td>Male</td>\n",
       "      <td>1</td>\n",
       "    </tr>\n",
       "    <tr>\n",
       "      <th>15</th>\n",
       "      <td>16</td>\n",
       "      <td>12.0</td>\n",
       "      <td>9.4</td>\n",
       "      <td>5.5</td>\n",
       "      <td>39</td>\n",
       "      <td>16</td>\n",
       "      <td>Low</td>\n",
       "      <td>Female</td>\n",
       "      <td>0</td>\n",
       "    </tr>\n",
       "    <tr>\n",
       "      <th>16</th>\n",
       "      <td>17</td>\n",
       "      <td>10.5</td>\n",
       "      <td>5.9</td>\n",
       "      <td>6.1</td>\n",
       "      <td>35</td>\n",
       "      <td>12</td>\n",
       "      <td>Low</td>\n",
       "      <td>Female</td>\n",
       "      <td>1</td>\n",
       "    </tr>\n",
       "    <tr>\n",
       "      <th>17</th>\n",
       "      <td>18</td>\n",
       "      <td>9.6</td>\n",
       "      <td>5.8</td>\n",
       "      <td>14.2</td>\n",
       "      <td>35</td>\n",
       "      <td>9</td>\n",
       "      <td>Low</td>\n",
       "      <td>Female</td>\n",
       "      <td>0</td>\n",
       "    </tr>\n",
       "    <tr>\n",
       "      <th>18</th>\n",
       "      <td>19</td>\n",
       "      <td>10.4</td>\n",
       "      <td>7.0</td>\n",
       "      <td>13.8</td>\n",
       "      <td>41</td>\n",
       "      <td>13</td>\n",
       "      <td>High</td>\n",
       "      <td>Female</td>\n",
       "      <td>1</td>\n",
       "    </tr>\n",
       "    <tr>\n",
       "      <th>19</th>\n",
       "      <td>20</td>\n",
       "      <td>10.4</td>\n",
       "      <td>7.0</td>\n",
       "      <td>.</td>\n",
       "      <td>38</td>\n",
       "      <td>9</td>\n",
       "      <td>Low</td>\n",
       "      <td>Male</td>\n",
       "      <td>1</td>\n",
       "    </tr>\n",
       "    <tr>\n",
       "      <th>20</th>\n",
       "      <td>21</td>\n",
       "      <td>6.7</td>\n",
       "      <td>8.6</td>\n",
       "      <td>.</td>\n",
       "      <td>46</td>\n",
       "      <td>12</td>\n",
       "      <td>Low</td>\n",
       "      <td>Male</td>\n",
       "      <td>0</td>\n",
       "    </tr>\n",
       "    <tr>\n",
       "      <th>21</th>\n",
       "      <td>22</td>\n",
       "      <td>7.7</td>\n",
       "      <td>8.7</td>\n",
       "      <td>.</td>\n",
       "      <td>44</td>\n",
       "      <td>17</td>\n",
       "      <td>Low</td>\n",
       "      <td>Male</td>\n",
       "      <td>1</td>\n",
       "    </tr>\n",
       "    <tr>\n",
       "      <th>22</th>\n",
       "      <td>23</td>\n",
       "      <td>8.8</td>\n",
       "      <td>8.9</td>\n",
       "      <td>.</td>\n",
       "      <td>39</td>\n",
       "      <td>17</td>\n",
       "      <td>High</td>\n",
       "      <td>Female</td>\n",
       "      <td>0</td>\n",
       "    </tr>\n",
       "    <tr>\n",
       "      <th>23</th>\n",
       "      <td>24</td>\n",
       "      <td>12.0</td>\n",
       "      <td>9.4</td>\n",
       "      <td>.</td>\n",
       "      <td>35</td>\n",
       "      <td>6</td>\n",
       "      <td>Low</td>\n",
       "      <td>Female</td>\n",
       "      <td>1</td>\n",
       "    </tr>\n",
       "  </tbody>\n",
       "</table>\n",
       "</div>"
      ],
      "text/plain": [
       "    Person ID  education_after  education_before diet_exercise_program A  \\\n",
       "0           1              9.6               5.8                     6.3   \n",
       "1           2             10.5               5.9                     0.5   \n",
       "2           3              9.7               6.0                     2.6   \n",
       "3           4             12.0               6.2                     7.9   \n",
       "4           5             10.4               6.5                     8.2   \n",
       "5           6             10.1               6.8                    -0.3   \n",
       "6           7              9.6               7.0                     3.7   \n",
       "7           8              7.0               6.0                     3.2   \n",
       "8           9              9.2               6.1                       3   \n",
       "9          10             10.3               7.5                     0.6   \n",
       "10         11             10.5               7.5                    18.7   \n",
       "11         12             10.4               7.0                     1.5   \n",
       "12         13              6.7               8.6                       3   \n",
       "13         14              7.7               8.7                    14.7   \n",
       "14         15              8.8               8.9                       7   \n",
       "15         16             12.0               9.4                     5.5   \n",
       "16         17             10.5               5.9                     6.1   \n",
       "17         18              9.6               5.8                    14.2   \n",
       "18         19             10.4               7.0                    13.8   \n",
       "19         20             10.4               7.0                       .   \n",
       "20         21              6.7               8.6                       .   \n",
       "21         22              7.7               8.7                       .   \n",
       "22         23              8.8               8.9                       .   \n",
       "23         24             12.0               9.4                       .   \n",
       "\n",
       "    health score  competency exercise level  gender  disease status  \n",
       "0             43          16            Low  Female               1  \n",
       "1             42          13           High  Female               0  \n",
       "2             36          17            Low  Female               1  \n",
       "3             26          17           High    Male               0  \n",
       "4             40           7           High    Male               1  \n",
       "5             33          18           High    Male               0  \n",
       "6             34           6            Low    Male               1  \n",
       "7             50          18           High    Male               0  \n",
       "8             46          11           High    Male               1  \n",
       "9             49          19           High    Male               0  \n",
       "10            41          20            Low    Male               1  \n",
       "11            43           8            Low  Female               0  \n",
       "12            38          13            Low    Male               1  \n",
       "13            46           5            Low    Male               1  \n",
       "14            44          17           High    Male               1  \n",
       "15            39          16            Low  Female               0  \n",
       "16            35          12            Low  Female               1  \n",
       "17            35           9            Low  Female               0  \n",
       "18            41          13           High  Female               1  \n",
       "19            38           9            Low    Male               1  \n",
       "20            46          12            Low    Male               0  \n",
       "21            44          17            Low    Male               1  \n",
       "22            39          17           High  Female               0  \n",
       "23            35           6            Low  Female               1  "
      ]
     },
     "execution_count": 28,
     "metadata": {},
     "output_type": "execute_result"
    }
   ],
   "source": [
    "data"
   ]
  },
  {
   "cell_type": "code",
   "execution_count": 29,
   "id": "3d0ccf7b",
   "metadata": {},
   "outputs": [],
   "source": [
    "l1 = [26,33,34,38,40,41,44,46,46,49,50]\n",
    "l2 = [36,39,42,43,43]"
   ]
  },
  {
   "cell_type": "code",
   "execution_count": 30,
   "id": "76138df8",
   "metadata": {},
   "outputs": [
    {
     "data": {
      "text/plain": [
       "MannwhitneyuResult(statistic=25.0, pvalue=0.8204934062971072)"
      ]
     },
     "execution_count": 30,
     "metadata": {},
     "output_type": "execute_result"
    }
   ],
   "source": [
    "stats.mannwhitneyu(l2,l1)"
   ]
  },
  {
   "cell_type": "code",
   "execution_count": 31,
   "id": "df781e0b",
   "metadata": {},
   "outputs": [
    {
     "ename": "SyntaxError",
     "evalue": "invalid syntax (2080675577.py, line 1)",
     "output_type": "error",
     "traceback": [
      "\u001b[1;36m  Cell \u001b[1;32mIn[31], line 1\u001b[1;36m\u001b[0m\n\u001b[1;33m    d1 =\u001b[0m\n\u001b[1;37m         ^\u001b[0m\n\u001b[1;31mSyntaxError\u001b[0m\u001b[1;31m:\u001b[0m invalid syntax\n"
     ]
    }
   ],
   "source": [
    "d1 = "
   ]
  },
  {
   "cell_type": "code",
   "execution_count": null,
   "id": "45c689bc",
   "metadata": {},
   "outputs": [],
   "source": []
  },
  {
   "cell_type": "code",
   "execution_count": null,
   "id": "65439ca9",
   "metadata": {},
   "outputs": [],
   "source": []
  },
  {
   "cell_type": "code",
   "execution_count": 32,
   "id": "4d6b23f9",
   "metadata": {},
   "outputs": [
    {
     "name": "stdout",
     "output_type": "stream",
     "text": [
      "Mann-Whitney U statistic (rounded): 50\n",
      "P-value: 0.24023334080661773\n"
     ]
    }
   ],
   "source": [
    "import pandas as pd\n",
    "from scipy.stats import mannwhitneyu\n",
    "\n",
    "\n",
    "\n",
    "# Filter data for males and females\n",
    "male_scores = data[data['gender'] == 'Male']['health score']\n",
    "female_scores = data[data['gender'] == 'Female']['health score']\n",
    "\n",
    "# Perform Mann-Whitney U test\n",
    "u_statistic, p_value = mannwhitneyu( female_scores,male_scores, alternative='two-sided')\n",
    "\n",
    "# If U statistic is not a whole number, round up\n",
    "u_statistic_rounded = int(u_statistic) if u_statistic.is_integer() else int(u_statistic) + 1\n",
    "\n",
    "print(f\"Mann-Whitney U statistic (rounded): {u_statistic_rounded}\")\n",
    "print(f\"P-value: {p_value}\")\n"
   ]
  },
  {
   "cell_type": "code",
   "execution_count": null,
   "id": "7fd28162",
   "metadata": {},
   "outputs": [],
   "source": []
  },
  {
   "cell_type": "code",
   "execution_count": null,
   "id": "4fe11d2d",
   "metadata": {},
   "outputs": [],
   "source": []
  },
  {
   "cell_type": "markdown",
   "id": "58bef753",
   "metadata": {},
   "source": [
    "# Sign Test"
   ]
  },
  {
   "cell_type": "code",
   "execution_count": 33,
   "id": "572006d4",
   "metadata": {},
   "outputs": [
    {
     "name": "stdout",
     "output_type": "stream",
     "text": [
      "Defaulting to user installation because normal site-packages is not writeable\n",
      "Requirement already satisfied: statsmodels in c:\\programdata\\anaconda3\\lib\\site-packages (0.13.5)\n",
      "Requirement already satisfied: pandas>=0.25 in c:\\programdata\\anaconda3\\lib\\site-packages (from statsmodels) (1.5.3)\n",
      "Requirement already satisfied: patsy>=0.5.2 in c:\\programdata\\anaconda3\\lib\\site-packages (from statsmodels) (0.5.3)\n",
      "Requirement already satisfied: packaging>=21.3 in c:\\programdata\\anaconda3\\lib\\site-packages (from statsmodels) (22.0)\n",
      "Requirement already satisfied: scipy>=1.3 in c:\\programdata\\anaconda3\\lib\\site-packages (from statsmodels) (1.10.0)\n",
      "Requirement already satisfied: numpy>=1.22.3 in c:\\programdata\\anaconda3\\lib\\site-packages (from statsmodels) (1.23.5)\n",
      "Requirement already satisfied: python-dateutil>=2.8.1 in c:\\programdata\\anaconda3\\lib\\site-packages (from pandas>=0.25->statsmodels) (2.8.2)\n",
      "Requirement already satisfied: pytz>=2020.1 in c:\\programdata\\anaconda3\\lib\\site-packages (from pandas>=0.25->statsmodels) (2022.7)\n",
      "Requirement already satisfied: six in c:\\programdata\\anaconda3\\lib\\site-packages (from patsy>=0.5.2->statsmodels) (1.16.0)\n"
     ]
    }
   ],
   "source": [
    "!pip install statsmodels"
   ]
  },
  {
   "cell_type": "code",
   "execution_count": 34,
   "id": "dacdc1df",
   "metadata": {},
   "outputs": [],
   "source": [
    "import numpy\n",
    "import statsmodels.stats.descriptivestats as sm\n",
    "from itertools import combinations"
   ]
  },
  {
   "cell_type": "code",
   "execution_count": 35,
   "id": "4fb55d52",
   "metadata": {},
   "outputs": [
    {
     "data": {
      "text/plain": [
       "0     16\n",
       "1     13\n",
       "2     17\n",
       "3     17\n",
       "4      7\n",
       "5     18\n",
       "6      6\n",
       "7     18\n",
       "8     11\n",
       "9     19\n",
       "10    20\n",
       "11     8\n",
       "12    13\n",
       "13     5\n",
       "14    17\n",
       "15    16\n",
       "16    12\n",
       "17     9\n",
       "18    13\n",
       "19     9\n",
       "20    12\n",
       "21    17\n",
       "22    17\n",
       "23     6\n",
       "Name: competency, dtype: int64"
      ]
     },
     "execution_count": 35,
     "metadata": {},
     "output_type": "execute_result"
    }
   ],
   "source": [
    "data['competency']"
   ]
  },
  {
   "cell_type": "code",
   "execution_count": 36,
   "id": "f2d77081",
   "metadata": {},
   "outputs": [
    {
     "data": {
      "text/plain": [
       "13.0"
      ]
     },
     "execution_count": 36,
     "metadata": {},
     "output_type": "execute_result"
    }
   ],
   "source": [
    "med = data['competency'].median()\n",
    "med"
   ]
  },
  {
   "cell_type": "code",
   "execution_count": 37,
   "id": "068f0cd9",
   "metadata": {},
   "outputs": [
    {
     "data": {
      "text/plain": [
       "(5.0, 0.06391465663909912)"
      ]
     },
     "execution_count": 37,
     "metadata": {},
     "output_type": "execute_result"
    }
   ],
   "source": [
    "sm.sign_test(data['competency'],10)"
   ]
  },
  {
   "cell_type": "markdown",
   "id": "672faff8",
   "metadata": {},
   "source": [
    "Other"
   ]
  },
  {
   "cell_type": "code",
   "execution_count": 38,
   "id": "f56b0486",
   "metadata": {},
   "outputs": [
    {
     "data": {
      "text/plain": [
       "11"
      ]
     },
     "execution_count": 38,
     "metadata": {},
     "output_type": "execute_result"
    }
   ],
   "source": [
    "n_gt_median = sum([1 for x in data['competency'] if x > med])\n",
    "n_gt_median"
   ]
  },
  {
   "cell_type": "code",
   "execution_count": 39,
   "id": "879901b1",
   "metadata": {},
   "outputs": [
    {
     "data": {
      "text/plain": [
       "10"
      ]
     },
     "execution_count": 39,
     "metadata": {},
     "output_type": "execute_result"
    }
   ],
   "source": [
    "n_lt_median = sum([1 for x in data['competency'] if x < med])\n",
    "n_lt_median"
   ]
  },
  {
   "cell_type": "code",
   "execution_count": 40,
   "id": "c472b326",
   "metadata": {},
   "outputs": [
    {
     "data": {
      "text/plain": [
       "3"
      ]
     },
     "execution_count": 40,
     "metadata": {},
     "output_type": "execute_result"
    }
   ],
   "source": [
    "n_eq_median = sum([1 for x in data['competency'] if x == med])\n",
    "n_eq_median"
   ]
  },
  {
   "cell_type": "code",
   "execution_count": 41,
   "id": "7a1ee075",
   "metadata": {},
   "outputs": [
    {
     "data": {
      "text/plain": [
       "24"
      ]
     },
     "execution_count": 41,
     "metadata": {},
     "output_type": "execute_result"
    }
   ],
   "source": [
    "len(data['competency'])"
   ]
  },
  {
   "cell_type": "code",
   "execution_count": 42,
   "id": "cd827364",
   "metadata": {},
   "outputs": [],
   "source": [
    "p_value = 0\n",
    "for i in range(min(n_gt_median,n_lt_median)+1):\n",
    "    num = numpy.math.factorial(n_gt_median+n_lt_median) * numpy.math.factorial(n_eq_median)*numpy.math.factorial(i)*numpy.math.factorial(n_gt_median-i)*numpy.math.factorial(n_lt_median-i)\n",
    "    den = numpy.math.factorial(len(data['competency'])) * numpy.math.factorial(i)*numpy.math.factorial(n_eq_median-1)\n",
    "    p_value += num/den"
   ]
  },
  {
   "cell_type": "code",
   "execution_count": 43,
   "id": "a70b958e",
   "metadata": {},
   "outputs": [
    {
     "data": {
      "text/plain": [
       "36112090177.03534"
      ]
     },
     "execution_count": 43,
     "metadata": {},
     "output_type": "execute_result"
    }
   ],
   "source": [
    "p_value"
   ]
  },
  {
   "cell_type": "code",
   "execution_count": 44,
   "id": "766d64ce",
   "metadata": {},
   "outputs": [
    {
     "data": {
      "text/plain": [
       "[1,\n",
       " 0,\n",
       " 1,\n",
       " 1,\n",
       " -1,\n",
       " 1,\n",
       " -1,\n",
       " 1,\n",
       " -1,\n",
       " 1,\n",
       " 1,\n",
       " -1,\n",
       " 0,\n",
       " -1,\n",
       " 1,\n",
       " 1,\n",
       " -1,\n",
       " -1,\n",
       " 0,\n",
       " -1,\n",
       " -1,\n",
       " 1,\n",
       " 1,\n",
       " -1]"
      ]
     },
     "execution_count": 44,
     "metadata": {},
     "output_type": "execute_result"
    }
   ],
   "source": [
    "signs = [1 if x > med else -1 if x < med else 0 for x in data['competency']]\n",
    "signs"
   ]
  },
  {
   "cell_type": "code",
   "execution_count": 20,
   "id": "ace2b606",
   "metadata": {},
   "outputs": [
    {
     "data": {
      "text/plain": [
       "11"
      ]
     },
     "execution_count": 20,
     "metadata": {},
     "output_type": "execute_result"
    }
   ],
   "source": [
    "npos = sum([1 for x in signs if x==1])\n",
    "npos"
   ]
  },
  {
   "cell_type": "code",
   "execution_count": 21,
   "id": "24ea741b",
   "metadata": {},
   "outputs": [
    {
     "data": {
      "text/plain": [
       "10"
      ]
     },
     "execution_count": 21,
     "metadata": {},
     "output_type": "execute_result"
    }
   ],
   "source": [
    "nneg = sum([1 for x in signs if x==-1])\n",
    "nneg"
   ]
  },
  {
   "cell_type": "code",
   "execution_count": 22,
   "id": "a546a115",
   "metadata": {},
   "outputs": [
    {
     "data": {
      "text/plain": [
       "16777216"
      ]
     },
     "execution_count": 22,
     "metadata": {},
     "output_type": "execute_result"
    }
   ],
   "source": [
    "n_com = 2**len(signs)\n",
    "n_com"
   ]
  },
  {
   "cell_type": "code",
   "execution_count": 23,
   "id": "3553bcc4",
   "metadata": {},
   "outputs": [
    {
     "data": {
      "text/plain": [
       "12236830.0"
      ]
     },
     "execution_count": 23,
     "metadata": {},
     "output_type": "execute_result"
    }
   ],
   "source": [
    "p_value = 0\n",
    "for i in range(npos, len(signs)+1):\n",
    "    p_value += (n_com * numpy.math.factorial(len(signs)))/(numpy.math.factorial(i)*numpy.math.factorial(len(signs)-i)*2**len(signs))\n",
    "p_value"
   ]
  },
  {
   "cell_type": "code",
   "execution_count": null,
   "id": "95a988d4",
   "metadata": {},
   "outputs": [],
   "source": []
  },
  {
   "cell_type": "code",
   "execution_count": null,
   "id": "a376afdf",
   "metadata": {},
   "outputs": [],
   "source": []
  },
  {
   "cell_type": "code",
   "execution_count": 49,
   "id": "23f8a22c",
   "metadata": {},
   "outputs": [
    {
     "name": "stdout",
     "output_type": "stream",
     "text": [
      "Number of scores above 10: 17\n",
      "Number of scores below 10: 7\n",
      "P-value of the sign test: 0.06391465663909912\n"
     ]
    },
    {
     "name": "stderr",
     "output_type": "stream",
     "text": [
      "C:\\Users\\choun\\AppData\\Local\\Temp\\ipykernel_14388\\1837911422.py:15: DeprecationWarning: 'binom_test' is deprecated in favour of 'binomtest' from version 1.7.0 and will be removed in Scipy 1.12.0.\n",
      "  p_value = binom_test(x=below, n=above + below, p=0.5, alternative='two-sided')\n"
     ]
    }
   ],
   "source": [
    "import pandas as pd\n",
    "from scipy.stats import binom_test\n",
    "\n",
    "\n",
    "# Assume 'Competency_Scores' is the column with the data\n",
    "scores = data['competency']\n",
    "\n",
    "# Count how many scores are above and below the hypothesized median (10)\n",
    "above = (scores > 10).sum()\n",
    "below = (scores < 10).sum()\n",
    "\n",
    "# Perform the sign test\n",
    "# The binom_test function is used here because the sign test is essentially a binomial test\n",
    "# where n is the number of non-tie scores and p=0.5 under the null hypothesis\n",
    "p_value = binom_test(x=below, n=above + below, p=0.5, alternative='two-sided')\n",
    "\n",
    "print(f\"Number of scores above 10: {above}\")\n",
    "print(f\"Number of scores below 10: {below}\")\n",
    "print(f\"P-value of the sign test: {p_value}\")\n"
   ]
  },
  {
   "cell_type": "code",
   "execution_count": null,
   "id": "d97eeeeb",
   "metadata": {},
   "outputs": [],
   "source": []
  },
  {
   "cell_type": "code",
   "execution_count": null,
   "id": "3468d17f",
   "metadata": {},
   "outputs": [],
   "source": []
  },
  {
   "cell_type": "code",
   "execution_count": null,
   "id": "2d2f6195",
   "metadata": {},
   "outputs": [],
   "source": []
  },
  {
   "cell_type": "code",
   "execution_count": null,
   "id": "289589e7",
   "metadata": {},
   "outputs": [],
   "source": []
  },
  {
   "cell_type": "code",
   "execution_count": null,
   "id": "753f5730",
   "metadata": {},
   "outputs": [],
   "source": []
  },
  {
   "cell_type": "markdown",
   "id": "bc5dbca3",
   "metadata": {},
   "source": [
    "Wilcoxon signed rank test"
   ]
  },
  {
   "cell_type": "code",
   "execution_count": 26,
   "id": "26dc0d11",
   "metadata": {},
   "outputs": [
    {
     "data": {
      "text/plain": [
       "WilcoxonResult(statistic=23.0, pvalue=7.62939453125e-05)"
      ]
     },
     "execution_count": 26,
     "metadata": {},
     "output_type": "execute_result"
    }
   ],
   "source": [
    "stats.wilcoxon(data['education_after'],data['education_before'])"
   ]
  },
  {
   "cell_type": "code",
   "execution_count": 67,
   "id": "dd830825",
   "metadata": {},
   "outputs": [
    {
     "data": {
      "text/plain": [
       "[9.6,\n",
       " 10.5,\n",
       " 9.7,\n",
       " 12.0,\n",
       " 10.4,\n",
       " 10.1,\n",
       " 9.6,\n",
       " 7.0,\n",
       " 9.2,\n",
       " 10.3,\n",
       " 10.5,\n",
       " 10.4,\n",
       " 6.7,\n",
       " 7.7,\n",
       " 8.8,\n",
       " 12.0]"
      ]
     },
     "execution_count": 67,
     "metadata": {},
     "output_type": "execute_result"
    }
   ],
   "source": [
    "l1 = data['education_after'].to_list()\n",
    "l1"
   ]
  },
  {
   "cell_type": "code",
   "execution_count": 68,
   "id": "8b6cea53",
   "metadata": {},
   "outputs": [
    {
     "data": {
      "text/plain": [
       "[5.8,\n",
       " 5.9,\n",
       " 6.0,\n",
       " 6.2,\n",
       " 6.5,\n",
       " 6.8,\n",
       " 7.0,\n",
       " 6.0,\n",
       " 6.1,\n",
       " 7.5,\n",
       " 7.5,\n",
       " 7.0,\n",
       " 8.6,\n",
       " 8.7,\n",
       " 8.9,\n",
       " 9.4]"
      ]
     },
     "execution_count": 68,
     "metadata": {},
     "output_type": "execute_result"
    }
   ],
   "source": [
    "l2=data['education_before'].to_list()\n",
    "l2"
   ]
  },
  {
   "cell_type": "code",
   "execution_count": 82,
   "id": "edc6cf8c",
   "metadata": {},
   "outputs": [
    {
     "data": {
      "text/plain": [
       "[3.8,\n",
       " 4.6,\n",
       " 3.6999999999999993,\n",
       " 5.8,\n",
       " 3.9000000000000004,\n",
       " 3.3,\n",
       " 2.5999999999999996,\n",
       " 1.0,\n",
       " 3.0999999999999996,\n",
       " 2.8000000000000007,\n",
       " 3.0,\n",
       " 3.4000000000000004,\n",
       " -1.8999999999999995,\n",
       " -0.9999999999999991,\n",
       " -0.09999999999999964,\n",
       " 2.5999999999999996]"
      ]
     },
     "execution_count": 82,
     "metadata": {},
     "output_type": "execute_result"
    }
   ],
   "source": [
    "diff = [(l1[i]-l2[i]) for i in range(len(l1))]\n",
    "diff"
   ]
  },
  {
   "cell_type": "code",
   "execution_count": 83,
   "id": "5a1ec105",
   "metadata": {},
   "outputs": [
    {
     "data": {
      "text/plain": [
       "[3.8,\n",
       " 4.6,\n",
       " 3.7,\n",
       " 5.8,\n",
       " 3.9,\n",
       " 3.3,\n",
       " 2.6,\n",
       " 1.0,\n",
       " 3.1,\n",
       " 2.8,\n",
       " 3.0,\n",
       " 3.4,\n",
       " -1.9,\n",
       " -1.0,\n",
       " -0.1,\n",
       " 2.6]"
      ]
     },
     "execution_count": 83,
     "metadata": {},
     "output_type": "execute_result"
    }
   ],
   "source": [
    "for i in range(len(diff)):\n",
    "    diff[i] = round(diff[i],1)\n",
    "diff"
   ]
  },
  {
   "cell_type": "code",
   "execution_count": 84,
   "id": "67f40330",
   "metadata": {},
   "outputs": [
    {
     "data": {
      "text/plain": [
       "[3.8,\n",
       " 4.6,\n",
       " 3.7,\n",
       " 5.8,\n",
       " 3.9,\n",
       " 3.3,\n",
       " 2.6,\n",
       " 1.0,\n",
       " 3.1,\n",
       " 2.8,\n",
       " 3.0,\n",
       " 3.4,\n",
       " 1.9,\n",
       " 1.0,\n",
       " 0.1,\n",
       " 2.6]"
      ]
     },
     "execution_count": 84,
     "metadata": {},
     "output_type": "execute_result"
    }
   ],
   "source": [
    "abs_diff = [abs(d) for d in diff]\n",
    "abs_diff"
   ]
  },
  {
   "cell_type": "code",
   "execution_count": 85,
   "id": "aa4b250b",
   "metadata": {},
   "outputs": [
    {
     "data": {
      "text/plain": [
       "[13, 15, 12, 16, 14, 10, 5, 2, 9, 7, 8, 11, 4, 2, 1, 5]"
      ]
     },
     "execution_count": 85,
     "metadata": {},
     "output_type": "execute_result"
    }
   ],
   "source": [
    "ranks = [sorted(abs_diff).index(abs(d)) + 1 for d in abs_diff]\n",
    "ranks"
   ]
  },
  {
   "cell_type": "code",
   "execution_count": 88,
   "id": "548a2566",
   "metadata": {},
   "outputs": [
    {
     "data": {
      "text/plain": [
       "16"
      ]
     },
     "execution_count": 88,
     "metadata": {},
     "output_type": "execute_result"
    }
   ],
   "source": [
    "n = len(diff)\n",
    "n"
   ]
  },
  {
   "cell_type": "code",
   "execution_count": 89,
   "id": "92341a1c",
   "metadata": {},
   "outputs": [
    {
     "data": {
      "text/plain": [
       "120"
      ]
     },
     "execution_count": 89,
     "metadata": {},
     "output_type": "execute_result"
    }
   ],
   "source": [
    "w = sum([ranks[i] if diff[i] > 0 else -ranks[i] for i in range(n)]) \n",
    "w"
   ]
  },
  {
   "cell_type": "code",
   "execution_count": 90,
   "id": "98e18f25",
   "metadata": {},
   "outputs": [
    {
     "data": {
      "text/plain": [
       "1.959963984540054"
      ]
     },
     "execution_count": 90,
     "metadata": {},
     "output_type": "execute_result"
    }
   ],
   "source": [
    "from scipy.stats import norm\n",
    "c = norm.ppf(1-0.05/2)\n",
    "c"
   ]
  },
  {
   "cell_type": "code",
   "execution_count": 91,
   "id": "db530bb8",
   "metadata": {},
   "outputs": [
    {
     "data": {
      "text/plain": [
       "WilcoxonResult(statistic=7.0, pvalue=0.000579833984375)"
      ]
     },
     "execution_count": 91,
     "metadata": {},
     "output_type": "execute_result"
    }
   ],
   "source": [
    "stats.wilcoxon()"
   ]
  },
  {
   "cell_type": "code",
   "execution_count": null,
   "id": "35207c3a",
   "metadata": {},
   "outputs": [],
   "source": [
    "stats.wilcoxon(data['education_after'],data['education_before'])"
   ]
  },
  {
   "cell_type": "code",
   "execution_count": 92,
   "id": "c1f83978",
   "metadata": {},
   "outputs": [
    {
     "data": {
      "text/plain": [
       "WilcoxonResult(statistic=7.0, pvalue=0.000579833984375)"
      ]
     },
     "execution_count": 92,
     "metadata": {},
     "output_type": "execute_result"
    }
   ],
   "source": [
    "stats.wilcoxon(data['education_before'], data['education_after'])"
   ]
  },
  {
   "cell_type": "code",
   "execution_count": null,
   "id": "55958b6f",
   "metadata": {},
   "outputs": [],
   "source": []
  },
  {
   "cell_type": "code",
   "execution_count": null,
   "id": "d8647ad7",
   "metadata": {},
   "outputs": [],
   "source": []
  },
  {
   "cell_type": "code",
   "execution_count": 86,
   "id": "bbe97a0c",
   "metadata": {},
   "outputs": [],
   "source": [
    "abs_diff = [abs(d) for d in diff]\n",
    "ranks = [sorted(abs_diff).index(abs(d)) + 1 for d in abs_diff]"
   ]
  },
  {
   "cell_type": "code",
   "execution_count": 8,
   "id": "0651aeb6",
   "metadata": {},
   "outputs": [
    {
     "data": {
      "text/plain": [
       "[3.8,\n",
       " 4.6,\n",
       " 3.6999999999999993,\n",
       " 5.8,\n",
       " 3.9000000000000004,\n",
       " 3.3,\n",
       " 2.5999999999999996,\n",
       " 1.0,\n",
       " 3.0999999999999996,\n",
       " 2.8000000000000007,\n",
       " 3.0,\n",
       " 3.4000000000000004,\n",
       " 1.8999999999999995,\n",
       " 0.9999999999999991,\n",
       " 0.09999999999999964,\n",
       " 2.5999999999999996]"
      ]
     },
     "execution_count": 8,
     "metadata": {},
     "output_type": "execute_result"
    }
   ],
   "source": [
    "abs_diff"
   ]
  },
  {
   "cell_type": "code",
   "execution_count": 9,
   "id": "4d677775",
   "metadata": {},
   "outputs": [
    {
     "data": {
      "text/plain": [
       "[13, 15, 12, 16, 14, 10, 5, 3, 9, 7, 8, 11, 4, 2, 1, 5]"
      ]
     },
     "execution_count": 9,
     "metadata": {},
     "output_type": "execute_result"
    }
   ],
   "source": [
    "ranks"
   ]
  },
  {
   "cell_type": "code",
   "execution_count": 10,
   "id": "7f44fab9",
   "metadata": {},
   "outputs": [],
   "source": [
    "signed_ranks = [r * (-1 if d < 0 else 1) for r, d in zip(ranks, diff)]"
   ]
  },
  {
   "cell_type": "code",
   "execution_count": 11,
   "id": "f3e0c7c7",
   "metadata": {},
   "outputs": [
    {
     "data": {
      "text/plain": [
       "[13, 15, 12, 16, 14, 10, 5, 3, 9, 7, 8, 11, -4, -2, -1, 5]"
      ]
     },
     "execution_count": 11,
     "metadata": {},
     "output_type": "execute_result"
    }
   ],
   "source": [
    "signed_ranks"
   ]
  },
  {
   "cell_type": "code",
   "execution_count": 16,
   "id": "9c21eaa2",
   "metadata": {},
   "outputs": [
    {
     "data": {
      "text/plain": [
       "121"
      ]
     },
     "execution_count": 16,
     "metadata": {},
     "output_type": "execute_result"
    }
   ],
   "source": [
    "sum_signed_ranks = sum(signed_ranks)\n",
    "sum_signed_ranks "
   ]
  },
  {
   "cell_type": "code",
   "execution_count": 17,
   "id": "bfe70453",
   "metadata": {},
   "outputs": [],
   "source": [
    "n = len(diff)\n",
    "w = sum_signed_ranks\n",
    "T = min(w, n*(n+1)/2 - w)"
   ]
  },
  {
   "cell_type": "code",
   "execution_count": 18,
   "id": "a7be9183",
   "metadata": {},
   "outputs": [
    {
     "ename": "NameError",
     "evalue": "name 'norm' is not defined",
     "output_type": "error",
     "traceback": [
      "\u001b[1;31m---------------------------------------------------------------------------\u001b[0m",
      "\u001b[1;31mNameError\u001b[0m                                 Traceback (most recent call last)",
      "Cell \u001b[1;32mIn[18], line 4\u001b[0m\n\u001b[0;32m      2\u001b[0m sigma \u001b[38;5;241m=\u001b[39m ((n\u001b[38;5;241m*\u001b[39m(n\u001b[38;5;241m+\u001b[39m\u001b[38;5;241m1\u001b[39m)\u001b[38;5;241m*\u001b[39m(\u001b[38;5;241m2\u001b[39m\u001b[38;5;241m*\u001b[39mn\u001b[38;5;241m+\u001b[39m\u001b[38;5;241m1\u001b[39m))\u001b[38;5;241m/\u001b[39m\u001b[38;5;241m24\u001b[39m)\u001b[38;5;241m*\u001b[39m\u001b[38;5;241m*\u001b[39m\u001b[38;5;241m0.5\u001b[39m\n\u001b[0;32m      3\u001b[0m z \u001b[38;5;241m=\u001b[39m (T \u001b[38;5;241m-\u001b[39m mu) \u001b[38;5;241m/\u001b[39m sigma\n\u001b[1;32m----> 4\u001b[0m pvalue \u001b[38;5;241m=\u001b[39m \u001b[38;5;241m2\u001b[39m\u001b[38;5;241m*\u001b[39m(\u001b[38;5;241m1\u001b[39m \u001b[38;5;241m-\u001b[39m \u001b[43mnorm\u001b[49m\u001b[38;5;241m.\u001b[39mcdf(\u001b[38;5;28mabs\u001b[39m(z)))\n",
      "\u001b[1;31mNameError\u001b[0m: name 'norm' is not defined"
     ]
    }
   ],
   "source": [
    "mu = n*(n+1)/4\n",
    "sigma = ((n*(n+1)*(2*n+1))/24)**0.5\n",
    "z = (T - mu) / sigma\n",
    "pvalue = 2*(1 - norm.cdf(abs(z)))"
   ]
  },
  {
   "cell_type": "code",
   "execution_count": 19,
   "id": "b7e13a02",
   "metadata": {},
   "outputs": [
    {
     "data": {
      "text/plain": [
       "16"
      ]
     },
     "execution_count": 19,
     "metadata": {},
     "output_type": "execute_result"
    }
   ],
   "source": [
    "n"
   ]
  },
  {
   "cell_type": "code",
   "execution_count": 20,
   "id": "43957eb8",
   "metadata": {},
   "outputs": [
    {
     "data": {
      "text/plain": [
       "121"
      ]
     },
     "execution_count": 20,
     "metadata": {},
     "output_type": "execute_result"
    }
   ],
   "source": [
    "w"
   ]
  },
  {
   "cell_type": "code",
   "execution_count": 21,
   "id": "5186e5a5",
   "metadata": {},
   "outputs": [
    {
     "data": {
      "text/plain": [
       "15.0"
      ]
     },
     "execution_count": 21,
     "metadata": {},
     "output_type": "execute_result"
    }
   ],
   "source": [
    "T"
   ]
  },
  {
   "cell_type": "code",
   "execution_count": 22,
   "id": "af6ed43c",
   "metadata": {},
   "outputs": [
    {
     "data": {
      "text/plain": [
       "68.0"
      ]
     },
     "execution_count": 22,
     "metadata": {},
     "output_type": "execute_result"
    }
   ],
   "source": [
    "mu"
   ]
  },
  {
   "cell_type": "code",
   "execution_count": 23,
   "id": "1c138761",
   "metadata": {},
   "outputs": [
    {
     "data": {
      "text/plain": [
       "-2.7405647569736016"
      ]
     },
     "execution_count": 23,
     "metadata": {},
     "output_type": "execute_result"
    }
   ],
   "source": [
    "z"
   ]
  },
  {
   "cell_type": "code",
   "execution_count": 10,
   "id": "f148465a",
   "metadata": {},
   "outputs": [],
   "source": [
    "from scipy.stats import binom\n"
   ]
  },
  {
   "cell_type": "code",
   "execution_count": 12,
   "id": "be1b17fb",
   "metadata": {},
   "outputs": [
    {
     "data": {
      "text/plain": [
       "0     11\n",
       "1     11\n",
       "2      9\n",
       "3      7\n",
       "4     11\n",
       "5      8\n",
       "6      8\n",
       "7     11\n",
       "8     12\n",
       "9     12\n",
       "10    10\n",
       "11    10\n",
       "12     9\n",
       "13    10\n",
       "14    10\n",
       "15     9\n",
       "Name: competency, dtype: int64"
      ]
     },
     "execution_count": 12,
     "metadata": {},
     "output_type": "execute_result"
    }
   ],
   "source": [
    "data['competency']"
   ]
  },
  {
   "cell_type": "code",
   "execution_count": 13,
   "id": "bde33630",
   "metadata": {},
   "outputs": [
    {
     "data": {
      "text/plain": [
       "16"
      ]
     },
     "execution_count": 13,
     "metadata": {},
     "output_type": "execute_result"
    }
   ],
   "source": [
    "n = len(data['competency'])\n",
    "n"
   ]
  },
  {
   "cell_type": "code",
   "execution_count": 17,
   "id": "3f12c95b",
   "metadata": {},
   "outputs": [
    {
     "data": {
      "text/plain": [
       "[1, 1, 1, 1, 1, 1]"
      ]
     },
     "execution_count": 17,
     "metadata": {},
     "output_type": "execute_result"
    }
   ],
   "source": [
    "([1 for x in data['competency'] if x > 10])\n"
   ]
  },
  {
   "cell_type": "code",
   "execution_count": 18,
   "id": "0c050be0",
   "metadata": {},
   "outputs": [
    {
     "data": {
      "text/plain": [
       "6"
      ]
     },
     "execution_count": 18,
     "metadata": {},
     "output_type": "execute_result"
    }
   ],
   "source": [
    "n_above = sum([1 for x in data['competency'] if x > 10])\n",
    "n_above"
   ]
  },
  {
   "cell_type": "code",
   "execution_count": 19,
   "id": "06faac27",
   "metadata": {},
   "outputs": [
    {
     "data": {
      "text/plain": [
       "[1, 1, 1, 1, 1, 1]"
      ]
     },
     "execution_count": 19,
     "metadata": {},
     "output_type": "execute_result"
    }
   ],
   "source": [
    "([1 for x in data['competency'] if x < 10])"
   ]
  },
  {
   "cell_type": "code",
   "execution_count": 20,
   "id": "b68fb637",
   "metadata": {},
   "outputs": [
    {
     "data": {
      "text/plain": [
       "6"
      ]
     },
     "execution_count": 20,
     "metadata": {},
     "output_type": "execute_result"
    }
   ],
   "source": [
    "n_below = sum([1 for x in data['competency'] if x < 10])\n",
    "n_below"
   ]
  },
  {
   "cell_type": "code",
   "execution_count": 22,
   "id": "6f249b34",
   "metadata": {},
   "outputs": [
    {
     "data": {
      "text/plain": [
       "6"
      ]
     },
     "execution_count": 22,
     "metadata": {},
     "output_type": "execute_result"
    }
   ],
   "source": [
    "T = min(n_above, n_below)\n",
    "T"
   ]
  },
  {
   "cell_type": "code",
   "execution_count": 23,
   "id": "d2b21c14",
   "metadata": {},
   "outputs": [
    {
     "data": {
      "text/plain": [
       "1.789886474609375"
      ]
     },
     "execution_count": 23,
     "metadata": {},
     "output_type": "execute_result"
    }
   ],
   "source": [
    "binom.sf(T - 1, n, 0.5) * 2\n"
   ]
  },
  {
   "cell_type": "code",
   "execution_count": 32,
   "id": "fb215fa4",
   "metadata": {},
   "outputs": [
    {
     "data": {
      "text/plain": [
       "6"
      ]
     },
     "execution_count": 32,
     "metadata": {},
     "output_type": "execute_result"
    }
   ],
   "source": [
    "n_above"
   ]
  },
  {
   "cell_type": "code",
   "execution_count": 33,
   "id": "45d29f75",
   "metadata": {},
   "outputs": [
    {
     "data": {
      "text/plain": [
       "6"
      ]
     },
     "execution_count": 33,
     "metadata": {},
     "output_type": "execute_result"
    }
   ],
   "source": [
    "n_below"
   ]
  },
  {
   "cell_type": "code",
   "execution_count": 34,
   "id": "8b408821",
   "metadata": {},
   "outputs": [],
   "source": [
    "T = min(n_above, n_below)"
   ]
  },
  {
   "cell_type": "code",
   "execution_count": 35,
   "id": "0c793696",
   "metadata": {},
   "outputs": [
    {
     "data": {
      "text/plain": [
       "6"
      ]
     },
     "execution_count": 35,
     "metadata": {},
     "output_type": "execute_result"
    }
   ],
   "source": [
    "T"
   ]
  },
  {
   "cell_type": "code",
   "execution_count": 40,
   "id": "c1acaea5",
   "metadata": {},
   "outputs": [
    {
     "data": {
      "text/plain": [
       "0     1\n",
       "1     1\n",
       "2    -1\n",
       "3    -3\n",
       "4     1\n",
       "5    -2\n",
       "6    -2\n",
       "7     1\n",
       "8     2\n",
       "9     2\n",
       "10    0\n",
       "11    0\n",
       "12   -1\n",
       "13    0\n",
       "14    0\n",
       "15   -1\n",
       "Name: competency, dtype: int64"
      ]
     },
     "execution_count": 40,
     "metadata": {},
     "output_type": "execute_result"
    }
   ],
   "source": [
    "diff = data['competency']-10\n",
    "diff"
   ]
  },
  {
   "cell_type": "code",
   "execution_count": 42,
   "id": "bf6db466",
   "metadata": {},
   "outputs": [],
   "source": [
    "import numpy as np\n",
    "positive_diff = np.sum(diff > 0)\n",
    "negative_diff = np.sum(diff < 0)"
   ]
  },
  {
   "cell_type": "code",
   "execution_count": 43,
   "id": "c802ed10",
   "metadata": {},
   "outputs": [
    {
     "data": {
      "text/plain": [
       "6"
      ]
     },
     "execution_count": 43,
     "metadata": {},
     "output_type": "execute_result"
    }
   ],
   "source": [
    "positive_diff"
   ]
  },
  {
   "cell_type": "code",
   "execution_count": 44,
   "id": "1b935293",
   "metadata": {},
   "outputs": [
    {
     "data": {
      "text/plain": [
       "6"
      ]
     },
     "execution_count": 44,
     "metadata": {},
     "output_type": "execute_result"
    }
   ],
   "source": [
    "negative_diff"
   ]
  },
  {
   "cell_type": "code",
   "execution_count": 46,
   "id": "f8a4170d",
   "metadata": {},
   "outputs": [
    {
     "data": {
      "text/plain": [
       "12"
      ]
     },
     "execution_count": 46,
     "metadata": {},
     "output_type": "execute_result"
    }
   ],
   "source": [
    "n = positive_diff + negative_diff\n",
    "n"
   ]
  },
  {
   "cell_type": "code",
   "execution_count": 47,
   "id": "d2ab465f",
   "metadata": {},
   "outputs": [
    {
     "data": {
      "text/plain": [
       "6"
      ]
     },
     "execution_count": 47,
     "metadata": {},
     "output_type": "execute_result"
    }
   ],
   "source": [
    "k = min(positive_diff, negative_diff)\n",
    "k"
   ]
  },
  {
   "cell_type": "code",
   "execution_count": 48,
   "id": "69adc1ff",
   "metadata": {},
   "outputs": [
    {
     "data": {
      "text/plain": [
       "1.2255859375"
      ]
     },
     "execution_count": 48,
     "metadata": {},
     "output_type": "execute_result"
    }
   ],
   "source": [
    "p_value = 2 * binom.cdf(k, n, 0.5)\n",
    "p_value"
   ]
  },
  {
   "cell_type": "code",
   "execution_count": 2,
   "id": "96a30a70",
   "metadata": {},
   "outputs": [],
   "source": [
    "import pandas\n",
    "data = pandas.read_csv('C:\\\\Users\\\\choun\\\\OneDrive\\\\Desktop\\\\biostats.csv')"
   ]
  },
  {
   "cell_type": "code",
   "execution_count": 3,
   "id": "5cb58667",
   "metadata": {},
   "outputs": [
    {
     "data": {
      "text/html": [
       "<div>\n",
       "<style scoped>\n",
       "    .dataframe tbody tr th:only-of-type {\n",
       "        vertical-align: middle;\n",
       "    }\n",
       "\n",
       "    .dataframe tbody tr th {\n",
       "        vertical-align: top;\n",
       "    }\n",
       "\n",
       "    .dataframe thead th {\n",
       "        text-align: right;\n",
       "    }\n",
       "</style>\n",
       "<table border=\"1\" class=\"dataframe\">\n",
       "  <thead>\n",
       "    <tr style=\"text-align: right;\">\n",
       "      <th></th>\n",
       "      <th>Data</th>\n",
       "    </tr>\n",
       "  </thead>\n",
       "  <tbody>\n",
       "    <tr>\n",
       "      <th>0</th>\n",
       "      <td>2</td>\n",
       "    </tr>\n",
       "    <tr>\n",
       "      <th>1</th>\n",
       "      <td>9</td>\n",
       "    </tr>\n",
       "    <tr>\n",
       "      <th>2</th>\n",
       "      <td>1</td>\n",
       "    </tr>\n",
       "    <tr>\n",
       "      <th>3</th>\n",
       "      <td>0</td>\n",
       "    </tr>\n",
       "    <tr>\n",
       "      <th>4</th>\n",
       "      <td>5</td>\n",
       "    </tr>\n",
       "    <tr>\n",
       "      <th>5</th>\n",
       "      <td>5</td>\n",
       "    </tr>\n",
       "    <tr>\n",
       "      <th>6</th>\n",
       "      <td>6</td>\n",
       "    </tr>\n",
       "    <tr>\n",
       "      <th>7</th>\n",
       "      <td>7</td>\n",
       "    </tr>\n",
       "    <tr>\n",
       "      <th>8</th>\n",
       "      <td>8</td>\n",
       "    </tr>\n",
       "    <tr>\n",
       "      <th>9</th>\n",
       "      <td>8</td>\n",
       "    </tr>\n",
       "    <tr>\n",
       "      <th>10</th>\n",
       "      <td>6</td>\n",
       "    </tr>\n",
       "    <tr>\n",
       "      <th>11</th>\n",
       "      <td>4</td>\n",
       "    </tr>\n",
       "    <tr>\n",
       "      <th>12</th>\n",
       "      <td>7</td>\n",
       "    </tr>\n",
       "    <tr>\n",
       "      <th>13</th>\n",
       "      <td>8</td>\n",
       "    </tr>\n",
       "    <tr>\n",
       "      <th>14</th>\n",
       "      <td>9</td>\n",
       "    </tr>\n",
       "    <tr>\n",
       "      <th>15</th>\n",
       "      <td>3</td>\n",
       "    </tr>\n",
       "    <tr>\n",
       "      <th>16</th>\n",
       "      <td>8</td>\n",
       "    </tr>\n",
       "    <tr>\n",
       "      <th>17</th>\n",
       "      <td>9</td>\n",
       "    </tr>\n",
       "    <tr>\n",
       "      <th>18</th>\n",
       "      <td>6</td>\n",
       "    </tr>\n",
       "    <tr>\n",
       "      <th>19</th>\n",
       "      <td>8</td>\n",
       "    </tr>\n",
       "    <tr>\n",
       "      <th>20</th>\n",
       "      <td>6</td>\n",
       "    </tr>\n",
       "  </tbody>\n",
       "</table>\n",
       "</div>"
      ],
      "text/plain": [
       "    Data\n",
       "0      2\n",
       "1      9\n",
       "2      1\n",
       "3      0\n",
       "4      5\n",
       "5      5\n",
       "6      6\n",
       "7      7\n",
       "8      8\n",
       "9      8\n",
       "10     6\n",
       "11     4\n",
       "12     7\n",
       "13     8\n",
       "14     9\n",
       "15     3\n",
       "16     8\n",
       "17     9\n",
       "18     6\n",
       "19     8\n",
       "20     6"
      ]
     },
     "execution_count": 3,
     "metadata": {},
     "output_type": "execute_result"
    }
   ],
   "source": [
    "data"
   ]
  },
  {
   "cell_type": "code",
   "execution_count": 4,
   "id": "9489c230",
   "metadata": {},
   "outputs": [
    {
     "data": {
      "text/plain": [
       "Data    125\n",
       "dtype: int64"
      ]
     },
     "execution_count": 4,
     "metadata": {},
     "output_type": "execute_result"
    }
   ],
   "source": [
    "data.sum()\n"
   ]
  },
  {
   "cell_type": "code",
   "execution_count": 7,
   "id": "405fd903",
   "metadata": {},
   "outputs": [
    {
     "data": {
      "text/plain": [
       "Data    21\n",
       "dtype: int64"
      ]
     },
     "execution_count": 7,
     "metadata": {},
     "output_type": "execute_result"
    }
   ],
   "source": [
    "data.count()"
   ]
  },
  {
   "cell_type": "code",
   "execution_count": 8,
   "id": "d88ce44b",
   "metadata": {},
   "outputs": [
    {
     "data": {
      "text/plain": [
       "Data    5.952381\n",
       "dtype: float64"
      ]
     },
     "execution_count": 8,
     "metadata": {},
     "output_type": "execute_result"
    }
   ],
   "source": [
    "data.mean()"
   ]
  },
  {
   "cell_type": "code",
   "execution_count": 9,
   "id": "b24de707",
   "metadata": {},
   "outputs": [
    {
     "data": {
      "text/plain": [
       "Data    6.0\n",
       "dtype: float64"
      ]
     },
     "execution_count": 9,
     "metadata": {},
     "output_type": "execute_result"
    }
   ],
   "source": [
    "data.mean().round()"
   ]
  }
 ],
 "metadata": {
  "kernelspec": {
   "display_name": "Python 3 (ipykernel)",
   "language": "python",
   "name": "python3"
  },
  "language_info": {
   "codemirror_mode": {
    "name": "ipython",
    "version": 3
   },
   "file_extension": ".py",
   "mimetype": "text/x-python",
   "name": "python",
   "nbconvert_exporter": "python",
   "pygments_lexer": "ipython3",
   "version": "3.10.9"
  }
 },
 "nbformat": 4,
 "nbformat_minor": 5
}

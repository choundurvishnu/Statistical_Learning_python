{
 "cells": [
  {
   "cell_type": "code",
   "execution_count": 1,
   "id": "4c8075ab",
   "metadata": {},
   "outputs": [],
   "source": [
    "import pandas\n",
    "data = pandas.read_csv('C:/Users/choun/Downloads/HW10.csv')"
   ]
  },
  {
   "cell_type": "code",
   "execution_count": 2,
   "id": "67417f64",
   "metadata": {},
   "outputs": [
    {
     "data": {
      "text/html": [
       "<div>\n",
       "<style scoped>\n",
       "    .dataframe tbody tr th:only-of-type {\n",
       "        vertical-align: middle;\n",
       "    }\n",
       "\n",
       "    .dataframe tbody tr th {\n",
       "        vertical-align: top;\n",
       "    }\n",
       "\n",
       "    .dataframe thead th {\n",
       "        text-align: right;\n",
       "    }\n",
       "</style>\n",
       "<table border=\"1\" class=\"dataframe\">\n",
       "  <thead>\n",
       "    <tr style=\"text-align: right;\">\n",
       "      <th></th>\n",
       "      <th>Person ID</th>\n",
       "      <th>education_after</th>\n",
       "      <th>education_before</th>\n",
       "      <th>health score</th>\n",
       "      <th>competency</th>\n",
       "      <th>exercise level</th>\n",
       "      <th>gender</th>\n",
       "      <th>disease status</th>\n",
       "    </tr>\n",
       "  </thead>\n",
       "  <tbody>\n",
       "    <tr>\n",
       "      <th>0</th>\n",
       "      <td>1</td>\n",
       "      <td>9.6</td>\n",
       "      <td>5.8</td>\n",
       "      <td>43</td>\n",
       "      <td>17</td>\n",
       "      <td>Low</td>\n",
       "      <td>Female</td>\n",
       "      <td>1</td>\n",
       "    </tr>\n",
       "    <tr>\n",
       "      <th>1</th>\n",
       "      <td>2</td>\n",
       "      <td>10.5</td>\n",
       "      <td>5.9</td>\n",
       "      <td>42</td>\n",
       "      <td>13</td>\n",
       "      <td>High</td>\n",
       "      <td>Female</td>\n",
       "      <td>0</td>\n",
       "    </tr>\n",
       "    <tr>\n",
       "      <th>2</th>\n",
       "      <td>3</td>\n",
       "      <td>9.7</td>\n",
       "      <td>6.0</td>\n",
       "      <td>36</td>\n",
       "      <td>17</td>\n",
       "      <td>High</td>\n",
       "      <td>Female</td>\n",
       "      <td>1</td>\n",
       "    </tr>\n",
       "    <tr>\n",
       "      <th>3</th>\n",
       "      <td>4</td>\n",
       "      <td>12.0</td>\n",
       "      <td>6.2</td>\n",
       "      <td>26</td>\n",
       "      <td>17</td>\n",
       "      <td>High</td>\n",
       "      <td>Male</td>\n",
       "      <td>0</td>\n",
       "    </tr>\n",
       "    <tr>\n",
       "      <th>4</th>\n",
       "      <td>5</td>\n",
       "      <td>10.4</td>\n",
       "      <td>6.5</td>\n",
       "      <td>40</td>\n",
       "      <td>7</td>\n",
       "      <td>High</td>\n",
       "      <td>Male</td>\n",
       "      <td>1</td>\n",
       "    </tr>\n",
       "    <tr>\n",
       "      <th>5</th>\n",
       "      <td>6</td>\n",
       "      <td>10.1</td>\n",
       "      <td>6.8</td>\n",
       "      <td>33</td>\n",
       "      <td>18</td>\n",
       "      <td>High</td>\n",
       "      <td>Male</td>\n",
       "      <td>0</td>\n",
       "    </tr>\n",
       "    <tr>\n",
       "      <th>6</th>\n",
       "      <td>7</td>\n",
       "      <td>9.6</td>\n",
       "      <td>7.0</td>\n",
       "      <td>34</td>\n",
       "      <td>6</td>\n",
       "      <td>Low</td>\n",
       "      <td>Male</td>\n",
       "      <td>1</td>\n",
       "    </tr>\n",
       "    <tr>\n",
       "      <th>7</th>\n",
       "      <td>8</td>\n",
       "      <td>7.0</td>\n",
       "      <td>6.0</td>\n",
       "      <td>50</td>\n",
       "      <td>19</td>\n",
       "      <td>High</td>\n",
       "      <td>Male</td>\n",
       "      <td>0</td>\n",
       "    </tr>\n",
       "    <tr>\n",
       "      <th>8</th>\n",
       "      <td>9</td>\n",
       "      <td>9.2</td>\n",
       "      <td>6.1</td>\n",
       "      <td>46</td>\n",
       "      <td>11</td>\n",
       "      <td>High</td>\n",
       "      <td>Male</td>\n",
       "      <td>1</td>\n",
       "    </tr>\n",
       "    <tr>\n",
       "      <th>9</th>\n",
       "      <td>10</td>\n",
       "      <td>10.3</td>\n",
       "      <td>7.5</td>\n",
       "      <td>49</td>\n",
       "      <td>19</td>\n",
       "      <td>High</td>\n",
       "      <td>Male</td>\n",
       "      <td>0</td>\n",
       "    </tr>\n",
       "    <tr>\n",
       "      <th>10</th>\n",
       "      <td>11</td>\n",
       "      <td>10.5</td>\n",
       "      <td>7.5</td>\n",
       "      <td>41</td>\n",
       "      <td>20</td>\n",
       "      <td>High</td>\n",
       "      <td>Male</td>\n",
       "      <td>1</td>\n",
       "    </tr>\n",
       "    <tr>\n",
       "      <th>11</th>\n",
       "      <td>12</td>\n",
       "      <td>10.4</td>\n",
       "      <td>7.0</td>\n",
       "      <td>43</td>\n",
       "      <td>8</td>\n",
       "      <td>Low</td>\n",
       "      <td>Female</td>\n",
       "      <td>0</td>\n",
       "    </tr>\n",
       "    <tr>\n",
       "      <th>12</th>\n",
       "      <td>13</td>\n",
       "      <td>6.7</td>\n",
       "      <td>8.6</td>\n",
       "      <td>38</td>\n",
       "      <td>13</td>\n",
       "      <td>High</td>\n",
       "      <td>Male</td>\n",
       "      <td>1</td>\n",
       "    </tr>\n",
       "    <tr>\n",
       "      <th>13</th>\n",
       "      <td>14</td>\n",
       "      <td>7.7</td>\n",
       "      <td>8.7</td>\n",
       "      <td>46</td>\n",
       "      <td>5</td>\n",
       "      <td>High</td>\n",
       "      <td>Male</td>\n",
       "      <td>0</td>\n",
       "    </tr>\n",
       "    <tr>\n",
       "      <th>14</th>\n",
       "      <td>15</td>\n",
       "      <td>8.8</td>\n",
       "      <td>8.9</td>\n",
       "      <td>44</td>\n",
       "      <td>17</td>\n",
       "      <td>High</td>\n",
       "      <td>Male</td>\n",
       "      <td>1</td>\n",
       "    </tr>\n",
       "    <tr>\n",
       "      <th>15</th>\n",
       "      <td>16</td>\n",
       "      <td>12.0</td>\n",
       "      <td>9.4</td>\n",
       "      <td>39</td>\n",
       "      <td>15</td>\n",
       "      <td>Low</td>\n",
       "      <td>Female</td>\n",
       "      <td>0</td>\n",
       "    </tr>\n",
       "    <tr>\n",
       "      <th>16</th>\n",
       "      <td>17</td>\n",
       "      <td>10.5</td>\n",
       "      <td>5.9</td>\n",
       "      <td>35</td>\n",
       "      <td>12</td>\n",
       "      <td>High</td>\n",
       "      <td>Female</td>\n",
       "      <td>1</td>\n",
       "    </tr>\n",
       "    <tr>\n",
       "      <th>17</th>\n",
       "      <td>18</td>\n",
       "      <td>9.6</td>\n",
       "      <td>5.8</td>\n",
       "      <td>35</td>\n",
       "      <td>9</td>\n",
       "      <td>Low</td>\n",
       "      <td>Female</td>\n",
       "      <td>0</td>\n",
       "    </tr>\n",
       "    <tr>\n",
       "      <th>18</th>\n",
       "      <td>19</td>\n",
       "      <td>10.4</td>\n",
       "      <td>7.0</td>\n",
       "      <td>41</td>\n",
       "      <td>13</td>\n",
       "      <td>High</td>\n",
       "      <td>Female</td>\n",
       "      <td>1</td>\n",
       "    </tr>\n",
       "    <tr>\n",
       "      <th>19</th>\n",
       "      <td>20</td>\n",
       "      <td>10.4</td>\n",
       "      <td>7.0</td>\n",
       "      <td>55</td>\n",
       "      <td>20</td>\n",
       "      <td>Low</td>\n",
       "      <td>Male</td>\n",
       "      <td>1</td>\n",
       "    </tr>\n",
       "    <tr>\n",
       "      <th>20</th>\n",
       "      <td>21</td>\n",
       "      <td>6.7</td>\n",
       "      <td>8.6</td>\n",
       "      <td>52</td>\n",
       "      <td>17</td>\n",
       "      <td>Low</td>\n",
       "      <td>Male</td>\n",
       "      <td>0</td>\n",
       "    </tr>\n",
       "    <tr>\n",
       "      <th>21</th>\n",
       "      <td>22</td>\n",
       "      <td>9.6</td>\n",
       "      <td>7.0</td>\n",
       "      <td>29</td>\n",
       "      <td>19</td>\n",
       "      <td>Low</td>\n",
       "      <td>Female</td>\n",
       "      <td>0</td>\n",
       "    </tr>\n",
       "    <tr>\n",
       "      <th>22</th>\n",
       "      <td>23</td>\n",
       "      <td>7.0</td>\n",
       "      <td>6.0</td>\n",
       "      <td>38</td>\n",
       "      <td>10</td>\n",
       "      <td>High</td>\n",
       "      <td>Female</td>\n",
       "      <td>0</td>\n",
       "    </tr>\n",
       "    <tr>\n",
       "      <th>23</th>\n",
       "      <td>24</td>\n",
       "      <td>9.2</td>\n",
       "      <td>6.1</td>\n",
       "      <td>41</td>\n",
       "      <td>16</td>\n",
       "      <td>High</td>\n",
       "      <td>Female</td>\n",
       "      <td>0</td>\n",
       "    </tr>\n",
       "    <tr>\n",
       "      <th>24</th>\n",
       "      <td>25</td>\n",
       "      <td>10.5</td>\n",
       "      <td>5.9</td>\n",
       "      <td>32</td>\n",
       "      <td>18</td>\n",
       "      <td>High</td>\n",
       "      <td>Female</td>\n",
       "      <td>0</td>\n",
       "    </tr>\n",
       "  </tbody>\n",
       "</table>\n",
       "</div>"
      ],
      "text/plain": [
       "    Person ID  education_after  education_before  health score  competency  \\\n",
       "0           1              9.6               5.8            43          17   \n",
       "1           2             10.5               5.9            42          13   \n",
       "2           3              9.7               6.0            36          17   \n",
       "3           4             12.0               6.2            26          17   \n",
       "4           5             10.4               6.5            40           7   \n",
       "5           6             10.1               6.8            33          18   \n",
       "6           7              9.6               7.0            34           6   \n",
       "7           8              7.0               6.0            50          19   \n",
       "8           9              9.2               6.1            46          11   \n",
       "9          10             10.3               7.5            49          19   \n",
       "10         11             10.5               7.5            41          20   \n",
       "11         12             10.4               7.0            43           8   \n",
       "12         13              6.7               8.6            38          13   \n",
       "13         14              7.7               8.7            46           5   \n",
       "14         15              8.8               8.9            44          17   \n",
       "15         16             12.0               9.4            39          15   \n",
       "16         17             10.5               5.9            35          12   \n",
       "17         18              9.6               5.8            35           9   \n",
       "18         19             10.4               7.0            41          13   \n",
       "19         20             10.4               7.0            55          20   \n",
       "20         21              6.7               8.6            52          17   \n",
       "21         22              9.6               7.0            29          19   \n",
       "22         23              7.0               6.0            38          10   \n",
       "23         24              9.2               6.1            41          16   \n",
       "24         25             10.5               5.9            32          18   \n",
       "\n",
       "   exercise level  gender  disease status  \n",
       "0             Low  Female               1  \n",
       "1            High  Female               0  \n",
       "2            High  Female               1  \n",
       "3            High    Male               0  \n",
       "4            High    Male               1  \n",
       "5            High    Male               0  \n",
       "6             Low    Male               1  \n",
       "7            High    Male               0  \n",
       "8            High    Male               1  \n",
       "9            High    Male               0  \n",
       "10           High    Male               1  \n",
       "11            Low  Female               0  \n",
       "12           High    Male               1  \n",
       "13           High    Male               0  \n",
       "14           High    Male               1  \n",
       "15            Low  Female               0  \n",
       "16           High  Female               1  \n",
       "17            Low  Female               0  \n",
       "18           High  Female               1  \n",
       "19            Low    Male               1  \n",
       "20            Low    Male               0  \n",
       "21            Low  Female               0  \n",
       "22           High  Female               0  \n",
       "23           High  Female               0  \n",
       "24           High  Female               0  "
      ]
     },
     "execution_count": 2,
     "metadata": {},
     "output_type": "execute_result"
    }
   ],
   "source": [
    "data"
   ]
  },
  {
   "cell_type": "code",
   "execution_count": null,
   "id": "84d970a9",
   "metadata": {},
   "outputs": [],
   "source": [
    "data['diet_exercise_program A'][0:19]"
   ]
  },
  {
   "cell_type": "code",
   "execution_count": null,
   "id": "c598dc4b",
   "metadata": {},
   "outputs": [],
   "source": [
    "data['diet_exercise_program A 1']=data['diet_exercise_program A'][0:19]"
   ]
  },
  {
   "cell_type": "code",
   "execution_count": null,
   "id": "c662dc0d",
   "metadata": {},
   "outputs": [],
   "source": [
    "data['diet_exercise_program A 1']"
   ]
  },
  {
   "cell_type": "code",
   "execution_count": 3,
   "id": "2be317ec",
   "metadata": {},
   "outputs": [
    {
     "name": "stdout",
     "output_type": "stream",
     "text": [
      "<class 'pandas.core.frame.DataFrame'>\n",
      "RangeIndex: 25 entries, 0 to 24\n",
      "Data columns (total 8 columns):\n",
      " #   Column            Non-Null Count  Dtype  \n",
      "---  ------            --------------  -----  \n",
      " 0   Person ID         25 non-null     int64  \n",
      " 1   education_after   25 non-null     float64\n",
      " 2   education_before  25 non-null     float64\n",
      " 3   health score      25 non-null     int64  \n",
      " 4   competency        25 non-null     int64  \n",
      " 5   exercise level    25 non-null     object \n",
      " 6   gender            25 non-null     object \n",
      " 7   disease status    25 non-null     int64  \n",
      "dtypes: float64(2), int64(4), object(2)\n",
      "memory usage: 1.7+ KB\n"
     ]
    }
   ],
   "source": [
    "data.info()"
   ]
  },
  {
   "cell_type": "code",
   "execution_count": null,
   "id": "4fddad3b",
   "metadata": {},
   "outputs": [],
   "source": []
  },
  {
   "cell_type": "markdown",
   "id": "c2f41b32",
   "metadata": {},
   "source": [
    "# ManWhitney Method"
   ]
  },
  {
   "cell_type": "code",
   "execution_count": 40,
   "id": "d4081ddc",
   "metadata": {},
   "outputs": [
    {
     "data": {
      "text/html": [
       "<div>\n",
       "<style scoped>\n",
       "    .dataframe tbody tr th:only-of-type {\n",
       "        vertical-align: middle;\n",
       "    }\n",
       "\n",
       "    .dataframe tbody tr th {\n",
       "        vertical-align: top;\n",
       "    }\n",
       "\n",
       "    .dataframe thead th {\n",
       "        text-align: right;\n",
       "    }\n",
       "</style>\n",
       "<table border=\"1\" class=\"dataframe\">\n",
       "  <thead>\n",
       "    <tr style=\"text-align: right;\">\n",
       "      <th></th>\n",
       "      <th>Person ID</th>\n",
       "      <th>education_after</th>\n",
       "      <th>education_before</th>\n",
       "      <th>health score</th>\n",
       "      <th>competency</th>\n",
       "      <th>exercise level</th>\n",
       "      <th>gender</th>\n",
       "      <th>disease status</th>\n",
       "    </tr>\n",
       "  </thead>\n",
       "  <tbody>\n",
       "    <tr>\n",
       "      <th>0</th>\n",
       "      <td>1</td>\n",
       "      <td>9.6</td>\n",
       "      <td>5.8</td>\n",
       "      <td>43</td>\n",
       "      <td>17</td>\n",
       "      <td>Low</td>\n",
       "      <td>Female</td>\n",
       "      <td>1</td>\n",
       "    </tr>\n",
       "    <tr>\n",
       "      <th>1</th>\n",
       "      <td>2</td>\n",
       "      <td>10.5</td>\n",
       "      <td>5.9</td>\n",
       "      <td>42</td>\n",
       "      <td>13</td>\n",
       "      <td>High</td>\n",
       "      <td>Female</td>\n",
       "      <td>0</td>\n",
       "    </tr>\n",
       "    <tr>\n",
       "      <th>2</th>\n",
       "      <td>3</td>\n",
       "      <td>9.7</td>\n",
       "      <td>6.0</td>\n",
       "      <td>36</td>\n",
       "      <td>17</td>\n",
       "      <td>High</td>\n",
       "      <td>Female</td>\n",
       "      <td>1</td>\n",
       "    </tr>\n",
       "    <tr>\n",
       "      <th>3</th>\n",
       "      <td>4</td>\n",
       "      <td>12.0</td>\n",
       "      <td>6.2</td>\n",
       "      <td>26</td>\n",
       "      <td>17</td>\n",
       "      <td>High</td>\n",
       "      <td>Male</td>\n",
       "      <td>0</td>\n",
       "    </tr>\n",
       "    <tr>\n",
       "      <th>4</th>\n",
       "      <td>5</td>\n",
       "      <td>10.4</td>\n",
       "      <td>6.5</td>\n",
       "      <td>40</td>\n",
       "      <td>7</td>\n",
       "      <td>High</td>\n",
       "      <td>Male</td>\n",
       "      <td>1</td>\n",
       "    </tr>\n",
       "    <tr>\n",
       "      <th>5</th>\n",
       "      <td>6</td>\n",
       "      <td>10.1</td>\n",
       "      <td>6.8</td>\n",
       "      <td>33</td>\n",
       "      <td>18</td>\n",
       "      <td>High</td>\n",
       "      <td>Male</td>\n",
       "      <td>0</td>\n",
       "    </tr>\n",
       "    <tr>\n",
       "      <th>6</th>\n",
       "      <td>7</td>\n",
       "      <td>9.6</td>\n",
       "      <td>7.0</td>\n",
       "      <td>34</td>\n",
       "      <td>6</td>\n",
       "      <td>Low</td>\n",
       "      <td>Male</td>\n",
       "      <td>1</td>\n",
       "    </tr>\n",
       "    <tr>\n",
       "      <th>7</th>\n",
       "      <td>8</td>\n",
       "      <td>7.0</td>\n",
       "      <td>6.0</td>\n",
       "      <td>50</td>\n",
       "      <td>19</td>\n",
       "      <td>High</td>\n",
       "      <td>Male</td>\n",
       "      <td>0</td>\n",
       "    </tr>\n",
       "    <tr>\n",
       "      <th>8</th>\n",
       "      <td>9</td>\n",
       "      <td>9.2</td>\n",
       "      <td>6.1</td>\n",
       "      <td>46</td>\n",
       "      <td>11</td>\n",
       "      <td>High</td>\n",
       "      <td>Male</td>\n",
       "      <td>1</td>\n",
       "    </tr>\n",
       "    <tr>\n",
       "      <th>9</th>\n",
       "      <td>10</td>\n",
       "      <td>10.3</td>\n",
       "      <td>7.5</td>\n",
       "      <td>49</td>\n",
       "      <td>19</td>\n",
       "      <td>High</td>\n",
       "      <td>Male</td>\n",
       "      <td>0</td>\n",
       "    </tr>\n",
       "    <tr>\n",
       "      <th>10</th>\n",
       "      <td>11</td>\n",
       "      <td>10.5</td>\n",
       "      <td>7.5</td>\n",
       "      <td>41</td>\n",
       "      <td>20</td>\n",
       "      <td>High</td>\n",
       "      <td>Male</td>\n",
       "      <td>1</td>\n",
       "    </tr>\n",
       "    <tr>\n",
       "      <th>11</th>\n",
       "      <td>12</td>\n",
       "      <td>10.4</td>\n",
       "      <td>7.0</td>\n",
       "      <td>43</td>\n",
       "      <td>8</td>\n",
       "      <td>Low</td>\n",
       "      <td>Female</td>\n",
       "      <td>0</td>\n",
       "    </tr>\n",
       "    <tr>\n",
       "      <th>12</th>\n",
       "      <td>13</td>\n",
       "      <td>6.7</td>\n",
       "      <td>8.6</td>\n",
       "      <td>38</td>\n",
       "      <td>13</td>\n",
       "      <td>High</td>\n",
       "      <td>Male</td>\n",
       "      <td>1</td>\n",
       "    </tr>\n",
       "    <tr>\n",
       "      <th>13</th>\n",
       "      <td>14</td>\n",
       "      <td>7.7</td>\n",
       "      <td>8.7</td>\n",
       "      <td>46</td>\n",
       "      <td>5</td>\n",
       "      <td>High</td>\n",
       "      <td>Male</td>\n",
       "      <td>0</td>\n",
       "    </tr>\n",
       "    <tr>\n",
       "      <th>14</th>\n",
       "      <td>15</td>\n",
       "      <td>8.8</td>\n",
       "      <td>8.9</td>\n",
       "      <td>44</td>\n",
       "      <td>17</td>\n",
       "      <td>High</td>\n",
       "      <td>Male</td>\n",
       "      <td>1</td>\n",
       "    </tr>\n",
       "    <tr>\n",
       "      <th>15</th>\n",
       "      <td>16</td>\n",
       "      <td>12.0</td>\n",
       "      <td>9.4</td>\n",
       "      <td>39</td>\n",
       "      <td>15</td>\n",
       "      <td>Low</td>\n",
       "      <td>Female</td>\n",
       "      <td>0</td>\n",
       "    </tr>\n",
       "    <tr>\n",
       "      <th>16</th>\n",
       "      <td>17</td>\n",
       "      <td>10.5</td>\n",
       "      <td>5.9</td>\n",
       "      <td>35</td>\n",
       "      <td>12</td>\n",
       "      <td>High</td>\n",
       "      <td>Female</td>\n",
       "      <td>1</td>\n",
       "    </tr>\n",
       "    <tr>\n",
       "      <th>17</th>\n",
       "      <td>18</td>\n",
       "      <td>9.6</td>\n",
       "      <td>5.8</td>\n",
       "      <td>35</td>\n",
       "      <td>9</td>\n",
       "      <td>Low</td>\n",
       "      <td>Female</td>\n",
       "      <td>0</td>\n",
       "    </tr>\n",
       "    <tr>\n",
       "      <th>18</th>\n",
       "      <td>19</td>\n",
       "      <td>10.4</td>\n",
       "      <td>7.0</td>\n",
       "      <td>41</td>\n",
       "      <td>13</td>\n",
       "      <td>High</td>\n",
       "      <td>Female</td>\n",
       "      <td>1</td>\n",
       "    </tr>\n",
       "    <tr>\n",
       "      <th>19</th>\n",
       "      <td>20</td>\n",
       "      <td>10.4</td>\n",
       "      <td>7.0</td>\n",
       "      <td>55</td>\n",
       "      <td>20</td>\n",
       "      <td>Low</td>\n",
       "      <td>Male</td>\n",
       "      <td>1</td>\n",
       "    </tr>\n",
       "    <tr>\n",
       "      <th>20</th>\n",
       "      <td>21</td>\n",
       "      <td>6.7</td>\n",
       "      <td>8.6</td>\n",
       "      <td>52</td>\n",
       "      <td>17</td>\n",
       "      <td>Low</td>\n",
       "      <td>Male</td>\n",
       "      <td>0</td>\n",
       "    </tr>\n",
       "    <tr>\n",
       "      <th>21</th>\n",
       "      <td>22</td>\n",
       "      <td>9.6</td>\n",
       "      <td>7.0</td>\n",
       "      <td>29</td>\n",
       "      <td>19</td>\n",
       "      <td>Low</td>\n",
       "      <td>Female</td>\n",
       "      <td>0</td>\n",
       "    </tr>\n",
       "    <tr>\n",
       "      <th>22</th>\n",
       "      <td>23</td>\n",
       "      <td>7.0</td>\n",
       "      <td>6.0</td>\n",
       "      <td>38</td>\n",
       "      <td>10</td>\n",
       "      <td>High</td>\n",
       "      <td>Female</td>\n",
       "      <td>0</td>\n",
       "    </tr>\n",
       "    <tr>\n",
       "      <th>23</th>\n",
       "      <td>24</td>\n",
       "      <td>9.2</td>\n",
       "      <td>6.1</td>\n",
       "      <td>41</td>\n",
       "      <td>16</td>\n",
       "      <td>High</td>\n",
       "      <td>Female</td>\n",
       "      <td>0</td>\n",
       "    </tr>\n",
       "    <tr>\n",
       "      <th>24</th>\n",
       "      <td>25</td>\n",
       "      <td>10.5</td>\n",
       "      <td>5.9</td>\n",
       "      <td>32</td>\n",
       "      <td>18</td>\n",
       "      <td>High</td>\n",
       "      <td>Female</td>\n",
       "      <td>0</td>\n",
       "    </tr>\n",
       "  </tbody>\n",
       "</table>\n",
       "</div>"
      ],
      "text/plain": [
       "    Person ID  education_after  education_before  health score  competency  \\\n",
       "0           1              9.6               5.8            43          17   \n",
       "1           2             10.5               5.9            42          13   \n",
       "2           3              9.7               6.0            36          17   \n",
       "3           4             12.0               6.2            26          17   \n",
       "4           5             10.4               6.5            40           7   \n",
       "5           6             10.1               6.8            33          18   \n",
       "6           7              9.6               7.0            34           6   \n",
       "7           8              7.0               6.0            50          19   \n",
       "8           9              9.2               6.1            46          11   \n",
       "9          10             10.3               7.5            49          19   \n",
       "10         11             10.5               7.5            41          20   \n",
       "11         12             10.4               7.0            43           8   \n",
       "12         13              6.7               8.6            38          13   \n",
       "13         14              7.7               8.7            46           5   \n",
       "14         15              8.8               8.9            44          17   \n",
       "15         16             12.0               9.4            39          15   \n",
       "16         17             10.5               5.9            35          12   \n",
       "17         18              9.6               5.8            35           9   \n",
       "18         19             10.4               7.0            41          13   \n",
       "19         20             10.4               7.0            55          20   \n",
       "20         21              6.7               8.6            52          17   \n",
       "21         22              9.6               7.0            29          19   \n",
       "22         23              7.0               6.0            38          10   \n",
       "23         24              9.2               6.1            41          16   \n",
       "24         25             10.5               5.9            32          18   \n",
       "\n",
       "   exercise level  gender  disease status  \n",
       "0             Low  Female               1  \n",
       "1            High  Female               0  \n",
       "2            High  Female               1  \n",
       "3            High    Male               0  \n",
       "4            High    Male               1  \n",
       "5            High    Male               0  \n",
       "6             Low    Male               1  \n",
       "7            High    Male               0  \n",
       "8            High    Male               1  \n",
       "9            High    Male               0  \n",
       "10           High    Male               1  \n",
       "11            Low  Female               0  \n",
       "12           High    Male               1  \n",
       "13           High    Male               0  \n",
       "14           High    Male               1  \n",
       "15            Low  Female               0  \n",
       "16           High  Female               1  \n",
       "17            Low  Female               0  \n",
       "18           High  Female               1  \n",
       "19            Low    Male               1  \n",
       "20            Low    Male               0  \n",
       "21            Low  Female               0  \n",
       "22           High  Female               0  \n",
       "23           High  Female               0  \n",
       "24           High  Female               0  "
      ]
     },
     "execution_count": 40,
     "metadata": {},
     "output_type": "execute_result"
    }
   ],
   "source": [
    "df = data\n",
    "df"
   ]
  },
  {
   "cell_type": "code",
   "execution_count": 41,
   "id": "7d0b829b",
   "metadata": {},
   "outputs": [],
   "source": [
    "male = df[df['gender']=='Male']['health score']\n",
    "female = df[df['gender']=='Female']['health score']"
   ]
  },
  {
   "cell_type": "code",
   "execution_count": 42,
   "id": "9f11a98d",
   "metadata": {
    "scrolled": true
   },
   "outputs": [
    {
     "data": {
      "text/plain": [
       "0     43\n",
       "1     42\n",
       "2     36\n",
       "11    43\n",
       "15    39\n",
       "16    35\n",
       "17    35\n",
       "18    41\n",
       "21    29\n",
       "22    38\n",
       "23    41\n",
       "24    32\n",
       "Name: health score, dtype: int64"
      ]
     },
     "execution_count": 42,
     "metadata": {},
     "output_type": "execute_result"
    }
   ],
   "source": [
    "female"
   ]
  },
  {
   "cell_type": "code",
   "execution_count": 43,
   "id": "c4d00acd",
   "metadata": {},
   "outputs": [
    {
     "data": {
      "text/plain": [
       "3     26\n",
       "4     40\n",
       "5     33\n",
       "6     34\n",
       "7     50\n",
       "8     46\n",
       "9     49\n",
       "10    41\n",
       "12    38\n",
       "13    46\n",
       "14    44\n",
       "19    55\n",
       "20    52\n",
       "Name: health score, dtype: int64"
      ]
     },
     "execution_count": 43,
     "metadata": {},
     "output_type": "execute_result"
    }
   ],
   "source": [
    "male"
   ]
  },
  {
   "cell_type": "code",
   "execution_count": 45,
   "id": "c0fad485",
   "metadata": {},
   "outputs": [
    {
     "data": {
      "text/plain": [
       "554"
      ]
     },
     "execution_count": 45,
     "metadata": {},
     "output_type": "execute_result"
    }
   ],
   "source": [
    "sum(male)"
   ]
  },
  {
   "cell_type": "code",
   "execution_count": 46,
   "id": "651fd1a1",
   "metadata": {},
   "outputs": [
    {
     "data": {
      "text/plain": [
       "454"
      ]
     },
     "execution_count": 46,
     "metadata": {},
     "output_type": "execute_result"
    }
   ],
   "source": [
    "sum(female)"
   ]
  },
  {
   "cell_type": "code",
   "execution_count": 47,
   "id": "9d762ba2",
   "metadata": {},
   "outputs": [
    {
     "data": {
      "text/plain": [
       "(108.5, 0.10219563734792074)"
      ]
     },
     "execution_count": 47,
     "metadata": {},
     "output_type": "execute_result"
    }
   ],
   "source": [
    "from scipy.stats import mannwhitneyu\n",
    "statistic, p_value = mannwhitneyu(male, female)\n",
    "statistic, p_value"
   ]
  },
  {
   "cell_type": "code",
   "execution_count": 48,
   "id": "e35ec640",
   "metadata": {},
   "outputs": [
    {
     "data": {
      "text/plain": [
       "(47.5, 0.10219563734792074)"
      ]
     },
     "execution_count": 48,
     "metadata": {},
     "output_type": "execute_result"
    }
   ],
   "source": [
    "statistic, p_value = mannwhitneyu( female,male)\n",
    "statistic, p_value"
   ]
  },
  {
   "cell_type": "markdown",
   "id": "18194de7",
   "metadata": {},
   "source": [
    "# Wilcoxon test"
   ]
  },
  {
   "cell_type": "code",
   "execution_count": 12,
   "id": "56cb7511",
   "metadata": {},
   "outputs": [],
   "source": [
    "from scipy.stats import wilcoxon"
   ]
  },
  {
   "cell_type": "code",
   "execution_count": 13,
   "id": "9af92bd4",
   "metadata": {},
   "outputs": [],
   "source": [
    "# Perform the Wilcoxon signed-rank test\n",
    "statistic, p_value = wilcoxon(df['education_after'], df['education_before'])\n"
   ]
  },
  {
   "cell_type": "code",
   "execution_count": 55,
   "id": "43d382a0",
   "metadata": {},
   "outputs": [
    {
     "name": "stdout",
     "output_type": "stream",
     "text": [
      "Wilcoxon signed-rank statistic: 47.5\n",
      "P-value: 0.10219563734792074\n",
      "Fail to Reject the null hypothesis. There is no significant difference between education_after and education_before.\n"
     ]
    }
   ],
   "source": [
    "print(f\"Wilcoxon signed-rank statistic: {statistic}\")\n",
    "print(f\"P-value: {p_value}\")\n",
    "\n",
    "# Check if the difference is statistically significant\n",
    "if p_value < 0.05:\n",
    "    print(\"Reject the null hypothesis. There is a significant difference between education_after and education_before.\")\n",
    "else:\n",
    "    print(\"Fail to Reject the null hypothesis. There is no significant difference between education_after and education_before.\")"
   ]
  },
  {
   "cell_type": "markdown",
   "id": "7dc26b80",
   "metadata": {},
   "source": [
    "# ChiSquare Test"
   ]
  },
  {
   "cell_type": "code",
   "execution_count": 15,
   "id": "a587244a",
   "metadata": {},
   "outputs": [],
   "source": [
    "import pandas as pd\n",
    "from scipy.stats import chi2_contingency"
   ]
  },
  {
   "cell_type": "code",
   "execution_count": 16,
   "id": "1067ac33",
   "metadata": {},
   "outputs": [
    {
     "data": {
      "text/html": [
       "<div>\n",
       "<style scoped>\n",
       "    .dataframe tbody tr th:only-of-type {\n",
       "        vertical-align: middle;\n",
       "    }\n",
       "\n",
       "    .dataframe tbody tr th {\n",
       "        vertical-align: top;\n",
       "    }\n",
       "\n",
       "    .dataframe thead th {\n",
       "        text-align: right;\n",
       "    }\n",
       "</style>\n",
       "<table border=\"1\" class=\"dataframe\">\n",
       "  <thead>\n",
       "    <tr style=\"text-align: right;\">\n",
       "      <th>disease status</th>\n",
       "      <th>0</th>\n",
       "      <th>1</th>\n",
       "    </tr>\n",
       "    <tr>\n",
       "      <th>exercise level</th>\n",
       "      <th></th>\n",
       "      <th></th>\n",
       "    </tr>\n",
       "  </thead>\n",
       "  <tbody>\n",
       "    <tr>\n",
       "      <th>High</th>\n",
       "      <td>9</td>\n",
       "      <td>8</td>\n",
       "    </tr>\n",
       "    <tr>\n",
       "      <th>Low</th>\n",
       "      <td>5</td>\n",
       "      <td>3</td>\n",
       "    </tr>\n",
       "  </tbody>\n",
       "</table>\n",
       "</div>"
      ],
      "text/plain": [
       "disease status  0  1\n",
       "exercise level      \n",
       "High            9  8\n",
       "Low             5  3"
      ]
     },
     "execution_count": 16,
     "metadata": {},
     "output_type": "execute_result"
    }
   ],
   "source": [
    "# Create a contingency table\n",
    "contingency_table = pd.crosstab(df['exercise level'], df['disease status'])\n",
    "contingency_table"
   ]
  },
  {
   "cell_type": "code",
   "execution_count": 17,
   "id": "699ff24d",
   "metadata": {},
   "outputs": [],
   "source": [
    "# Perform the chi-squared test\n",
    "chi2, p, dof, expected = chi2_contingency(contingency_table)"
   ]
  },
  {
   "cell_type": "code",
   "execution_count": 18,
   "id": "0e8feb86",
   "metadata": {},
   "outputs": [
    {
     "data": {
      "text/plain": [
       "array([[9.52, 7.48],\n",
       "       [4.48, 3.52]])"
      ]
     },
     "execution_count": 18,
     "metadata": {},
     "output_type": "execute_result"
    }
   ],
   "source": [
    "expected"
   ]
  },
  {
   "cell_type": "code",
   "execution_count": 19,
   "id": "b48263a2",
   "metadata": {},
   "outputs": [
    {
     "data": {
      "text/plain": [
       "(1, 0.0002984148204736363)"
      ]
     },
     "execution_count": 19,
     "metadata": {},
     "output_type": "execute_result"
    }
   ],
   "source": [
    "dof, chi2"
   ]
  },
  {
   "cell_type": "code",
   "execution_count": 20,
   "id": "e6a2c48e",
   "metadata": {},
   "outputs": [
    {
     "data": {
      "text/plain": [
       "0.986217479218165"
      ]
     },
     "execution_count": 20,
     "metadata": {},
     "output_type": "execute_result"
    }
   ],
   "source": [
    "p"
   ]
  },
  {
   "cell_type": "code",
   "execution_count": 21,
   "id": "d9aa2ed2",
   "metadata": {},
   "outputs": [
    {
     "name": "stdout",
     "output_type": "stream",
     "text": [
      "Chi-squared statistic: 0.0002984148204736363\n",
      "P-value: 0.986217479218165\n",
      "Degrees of freedom: 1\n",
      "Expected frequencies table:\n",
      "[[9.52 7.48]\n",
      " [4.48 3.52]]\n",
      "Fail to reject the null hypothesis. There is no significant evidence of an association between exercise levels and disease status.\n"
     ]
    }
   ],
   "source": [
    "# Print the results\n",
    "print(\"Chi-squared statistic:\", chi2)\n",
    "print(\"P-value:\", p)\n",
    "print(\"Degrees of freedom:\", dof)\n",
    "print(\"Expected frequencies table:\")\n",
    "print(expected)\n",
    "\n",
    "# Compare p-value with significance level (e.g., 0.05) to make a decision\n",
    "alpha = 0.05\n",
    "if p < alpha:\n",
    "    print(\"Reject the null hypothesis. There is evidence of an association between exercise levels and disease status.\")\n",
    "else:\n",
    "    print(\"Fail to reject the null hypothesis. There is no significant evidence of an association between exercise levels and disease status.\")\n"
   ]
  },
  {
   "cell_type": "markdown",
   "id": "6221168a",
   "metadata": {},
   "source": [
    "## Fisher Test"
   ]
  },
  {
   "cell_type": "code",
   "execution_count": 22,
   "id": "106ed031",
   "metadata": {},
   "outputs": [],
   "source": [
    "import pandas as pd\n",
    "from scipy.stats import fisher_exact\n",
    "\n",
    "\n"
   ]
  },
  {
   "cell_type": "code",
   "execution_count": 23,
   "id": "59cda79a",
   "metadata": {},
   "outputs": [
    {
     "data": {
      "text/html": [
       "<div>\n",
       "<style scoped>\n",
       "    .dataframe tbody tr th:only-of-type {\n",
       "        vertical-align: middle;\n",
       "    }\n",
       "\n",
       "    .dataframe tbody tr th {\n",
       "        vertical-align: top;\n",
       "    }\n",
       "\n",
       "    .dataframe thead th {\n",
       "        text-align: right;\n",
       "    }\n",
       "</style>\n",
       "<table border=\"1\" class=\"dataframe\">\n",
       "  <thead>\n",
       "    <tr style=\"text-align: right;\">\n",
       "      <th>disease status</th>\n",
       "      <th>0</th>\n",
       "      <th>1</th>\n",
       "    </tr>\n",
       "    <tr>\n",
       "      <th>exercise level</th>\n",
       "      <th></th>\n",
       "      <th></th>\n",
       "    </tr>\n",
       "  </thead>\n",
       "  <tbody>\n",
       "    <tr>\n",
       "      <th>High</th>\n",
       "      <td>9</td>\n",
       "      <td>8</td>\n",
       "    </tr>\n",
       "    <tr>\n",
       "      <th>Low</th>\n",
       "      <td>5</td>\n",
       "      <td>3</td>\n",
       "    </tr>\n",
       "  </tbody>\n",
       "</table>\n",
       "</div>"
      ],
      "text/plain": [
       "disease status  0  1\n",
       "exercise level      \n",
       "High            9  8\n",
       "Low             5  3"
      ]
     },
     "execution_count": 23,
     "metadata": {},
     "output_type": "execute_result"
    }
   ],
   "source": [
    "contingency_table = pd.crosstab(df['exercise level'], df['disease status'])\n",
    "\n",
    "contingency_table"
   ]
  },
  {
   "cell_type": "code",
   "execution_count": 24,
   "id": "4e8c4fe8",
   "metadata": {},
   "outputs": [
    {
     "name": "stdout",
     "output_type": "stream",
     "text": [
      "Odds Ratio: 0.675\n",
      "p-value: 1.0\n"
     ]
    }
   ],
   "source": [
    "# Perform Fisher's exact test\n",
    "odds_ratio, p_value = fisher_exact(contingency_table)\n",
    "\n",
    "print(\"Odds Ratio:\", odds_ratio)\n",
    "print(\"p-value:\", p_value)"
   ]
  },
  {
   "cell_type": "code",
   "execution_count": 25,
   "id": "7698a11e",
   "metadata": {},
   "outputs": [
    {
     "name": "stdout",
     "output_type": "stream",
     "text": [
      "Odds Ratio: 1.4814814814814814\n",
      "p-value: 1.0\n"
     ]
    }
   ],
   "source": [
    "ct = [[8,9],[3,5]]\n",
    "odds_ratio, p_value = fisher_exact(ct)\n",
    "\n",
    "print(\"Odds Ratio:\", odds_ratio)\n",
    "print(\"p-value:\", p_value)"
   ]
  },
  {
   "cell_type": "code",
   "execution_count": null,
   "id": "8aa54dd0",
   "metadata": {},
   "outputs": [],
   "source": []
  },
  {
   "cell_type": "markdown",
   "id": "8dd2f60b",
   "metadata": {},
   "source": [
    "# Sign Test"
   ]
  },
  {
   "cell_type": "code",
   "execution_count": null,
   "id": "d358644e",
   "metadata": {},
   "outputs": [],
   "source": []
  },
  {
   "cell_type": "code",
   "execution_count": 26,
   "id": "82d7c44b",
   "metadata": {},
   "outputs": [
    {
     "ename": "KeyError",
     "evalue": "'BMI'",
     "output_type": "error",
     "traceback": [
      "\u001b[1;31m---------------------------------------------------------------------------\u001b[0m",
      "\u001b[1;31mKeyError\u001b[0m                                  Traceback (most recent call last)",
      "File \u001b[1;32mC:\\ProgramData\\anaconda3\\lib\\site-packages\\pandas\\core\\indexes\\base.py:3802\u001b[0m, in \u001b[0;36mIndex.get_loc\u001b[1;34m(self, key, method, tolerance)\u001b[0m\n\u001b[0;32m   3801\u001b[0m \u001b[38;5;28;01mtry\u001b[39;00m:\n\u001b[1;32m-> 3802\u001b[0m     \u001b[38;5;28;01mreturn\u001b[39;00m \u001b[38;5;28;43mself\u001b[39;49m\u001b[38;5;241;43m.\u001b[39;49m\u001b[43m_engine\u001b[49m\u001b[38;5;241;43m.\u001b[39;49m\u001b[43mget_loc\u001b[49m\u001b[43m(\u001b[49m\u001b[43mcasted_key\u001b[49m\u001b[43m)\u001b[49m\n\u001b[0;32m   3803\u001b[0m \u001b[38;5;28;01mexcept\u001b[39;00m \u001b[38;5;167;01mKeyError\u001b[39;00m \u001b[38;5;28;01mas\u001b[39;00m err:\n",
      "File \u001b[1;32mC:\\ProgramData\\anaconda3\\lib\\site-packages\\pandas\\_libs\\index.pyx:138\u001b[0m, in \u001b[0;36mpandas._libs.index.IndexEngine.get_loc\u001b[1;34m()\u001b[0m\n",
      "File \u001b[1;32mC:\\ProgramData\\anaconda3\\lib\\site-packages\\pandas\\_libs\\index.pyx:165\u001b[0m, in \u001b[0;36mpandas._libs.index.IndexEngine.get_loc\u001b[1;34m()\u001b[0m\n",
      "File \u001b[1;32mpandas\\_libs\\hashtable_class_helper.pxi:5745\u001b[0m, in \u001b[0;36mpandas._libs.hashtable.PyObjectHashTable.get_item\u001b[1;34m()\u001b[0m\n",
      "File \u001b[1;32mpandas\\_libs\\hashtable_class_helper.pxi:5753\u001b[0m, in \u001b[0;36mpandas._libs.hashtable.PyObjectHashTable.get_item\u001b[1;34m()\u001b[0m\n",
      "\u001b[1;31mKeyError\u001b[0m: 'BMI'",
      "\nThe above exception was the direct cause of the following exception:\n",
      "\u001b[1;31mKeyError\u001b[0m                                  Traceback (most recent call last)",
      "Cell \u001b[1;32mIn[26], line 1\u001b[0m\n\u001b[1;32m----> 1\u001b[0m \u001b[43mdf\u001b[49m\u001b[43m[\u001b[49m\u001b[38;5;124;43m'\u001b[39;49m\u001b[38;5;124;43mBMI\u001b[39;49m\u001b[38;5;124;43m'\u001b[39;49m\u001b[43m]\u001b[49m[\u001b[38;5;241m0\u001b[39m:\u001b[38;5;241m20\u001b[39m]\n",
      "File \u001b[1;32mC:\\ProgramData\\anaconda3\\lib\\site-packages\\pandas\\core\\frame.py:3807\u001b[0m, in \u001b[0;36mDataFrame.__getitem__\u001b[1;34m(self, key)\u001b[0m\n\u001b[0;32m   3805\u001b[0m \u001b[38;5;28;01mif\u001b[39;00m \u001b[38;5;28mself\u001b[39m\u001b[38;5;241m.\u001b[39mcolumns\u001b[38;5;241m.\u001b[39mnlevels \u001b[38;5;241m>\u001b[39m \u001b[38;5;241m1\u001b[39m:\n\u001b[0;32m   3806\u001b[0m     \u001b[38;5;28;01mreturn\u001b[39;00m \u001b[38;5;28mself\u001b[39m\u001b[38;5;241m.\u001b[39m_getitem_multilevel(key)\n\u001b[1;32m-> 3807\u001b[0m indexer \u001b[38;5;241m=\u001b[39m \u001b[38;5;28;43mself\u001b[39;49m\u001b[38;5;241;43m.\u001b[39;49m\u001b[43mcolumns\u001b[49m\u001b[38;5;241;43m.\u001b[39;49m\u001b[43mget_loc\u001b[49m\u001b[43m(\u001b[49m\u001b[43mkey\u001b[49m\u001b[43m)\u001b[49m\n\u001b[0;32m   3808\u001b[0m \u001b[38;5;28;01mif\u001b[39;00m is_integer(indexer):\n\u001b[0;32m   3809\u001b[0m     indexer \u001b[38;5;241m=\u001b[39m [indexer]\n",
      "File \u001b[1;32mC:\\ProgramData\\anaconda3\\lib\\site-packages\\pandas\\core\\indexes\\base.py:3804\u001b[0m, in \u001b[0;36mIndex.get_loc\u001b[1;34m(self, key, method, tolerance)\u001b[0m\n\u001b[0;32m   3802\u001b[0m     \u001b[38;5;28;01mreturn\u001b[39;00m \u001b[38;5;28mself\u001b[39m\u001b[38;5;241m.\u001b[39m_engine\u001b[38;5;241m.\u001b[39mget_loc(casted_key)\n\u001b[0;32m   3803\u001b[0m \u001b[38;5;28;01mexcept\u001b[39;00m \u001b[38;5;167;01mKeyError\u001b[39;00m \u001b[38;5;28;01mas\u001b[39;00m err:\n\u001b[1;32m-> 3804\u001b[0m     \u001b[38;5;28;01mraise\u001b[39;00m \u001b[38;5;167;01mKeyError\u001b[39;00m(key) \u001b[38;5;28;01mfrom\u001b[39;00m \u001b[38;5;21;01merr\u001b[39;00m\n\u001b[0;32m   3805\u001b[0m \u001b[38;5;28;01mexcept\u001b[39;00m \u001b[38;5;167;01mTypeError\u001b[39;00m:\n\u001b[0;32m   3806\u001b[0m     \u001b[38;5;66;03m# If we have a listlike key, _check_indexing_error will raise\u001b[39;00m\n\u001b[0;32m   3807\u001b[0m     \u001b[38;5;66;03m#  InvalidIndexError. Otherwise we fall through and re-raise\u001b[39;00m\n\u001b[0;32m   3808\u001b[0m     \u001b[38;5;66;03m#  the TypeError.\u001b[39;00m\n\u001b[0;32m   3809\u001b[0m     \u001b[38;5;28mself\u001b[39m\u001b[38;5;241m.\u001b[39m_check_indexing_error(key)\n",
      "\u001b[1;31mKeyError\u001b[0m: 'BMI'"
     ]
    }
   ],
   "source": [
    "df['BMI'][0:20]"
   ]
  },
  {
   "cell_type": "code",
   "execution_count": 27,
   "id": "def0112b",
   "metadata": {},
   "outputs": [
    {
     "data": {
      "text/plain": [
       "16.0"
      ]
     },
     "execution_count": 27,
     "metadata": {},
     "output_type": "execute_result"
    }
   ],
   "source": [
    "med = df['competency'].median()   #competency\n",
    "med"
   ]
  },
  {
   "cell_type": "code",
   "execution_count": 28,
   "id": "269be868",
   "metadata": {},
   "outputs": [],
   "source": [
    "import numpy\n",
    "import numpy\n",
    "import statsmodels.stats.descriptivestats as sm\n",
    "from itertools import combinations\n",
    "from scipy.stats import binom"
   ]
  },
  {
   "cell_type": "code",
   "execution_count": 29,
   "id": "3dd88b3d",
   "metadata": {},
   "outputs": [],
   "source": [
    "med = 11"
   ]
  },
  {
   "cell_type": "code",
   "execution_count": 30,
   "id": "82986f43",
   "metadata": {},
   "outputs": [
    {
     "data": {
      "text/plain": [
       "18"
      ]
     },
     "execution_count": 30,
     "metadata": {},
     "output_type": "execute_result"
    }
   ],
   "source": [
    "n_gt_median = sum([1 for x in data['competency'] if x > med])\n",
    "n_gt_median"
   ]
  },
  {
   "cell_type": "code",
   "execution_count": 31,
   "id": "136affdf",
   "metadata": {},
   "outputs": [
    {
     "data": {
      "text/plain": [
       "6"
      ]
     },
     "execution_count": 31,
     "metadata": {},
     "output_type": "execute_result"
    }
   ],
   "source": [
    "n_lt_median = sum([1 for x in data['competency'] if x < med])\n",
    "n_lt_median"
   ]
  },
  {
   "cell_type": "code",
   "execution_count": 32,
   "id": "79236fa7",
   "metadata": {},
   "outputs": [
    {
     "data": {
      "text/plain": [
       "1"
      ]
     },
     "execution_count": 32,
     "metadata": {},
     "output_type": "execute_result"
    }
   ],
   "source": [
    "n_eq_median = sum([1 for x in data['competency'] if x == med])\n",
    "n_eq_median"
   ]
  },
  {
   "cell_type": "code",
   "execution_count": 33,
   "id": "d5b0e197",
   "metadata": {},
   "outputs": [
    {
     "data": {
      "text/plain": [
       "25"
      ]
     },
     "execution_count": 33,
     "metadata": {},
     "output_type": "execute_result"
    }
   ],
   "source": [
    "len(data['competency'])"
   ]
  },
  {
   "cell_type": "code",
   "execution_count": 34,
   "id": "1b1bc1e3",
   "metadata": {},
   "outputs": [
    {
     "name": "stdout",
     "output_type": "stream",
     "text": [
      "Number of positive signs: 18\n",
      "Number of negative signs: 6\n",
      "Number of ties: 1\n",
      "p-value: 0.022655844688415527\n",
      "Reject the null hypothesis. There is evidence that the median is different from 11\n"
     ]
    }
   ],
   "source": [
    "\n",
    "# Calculate the p-value using the binomial test\n",
    "n = n_gt_median + n_lt_median# + n_eq_median\n",
    "k = min(n_gt_median, n_lt_median)\n",
    "\n",
    "# The null hypothesis is that the median is equal to the hypothesis value\n",
    "p_value = 2*binom.cdf(k, n, 0.5)\n",
    "\n",
    "# Print the results\n",
    "print(\"Number of positive signs:\", n_gt_median)\n",
    "print(\"Number of negative signs:\", n_lt_median)\n",
    "print(\"Number of ties:\", n_eq_median)\n",
    "print(\"p-value:\", p_value)\n",
    "\n",
    "# Compare p-value with significance level (e.g., 0.05) to make a decision\n",
    "alpha = 0.05\n",
    "if p_value < alpha:\n",
    "    print(\"Reject the null hypothesis. There is evidence that the median is different from\", med)\n",
    "else:\n",
    "    print(\"Fail to reject the null hypothesis. There is no significant evidence that the median is different from\", med)"
   ]
  },
  {
   "cell_type": "code",
   "execution_count": 35,
   "id": "82f76123",
   "metadata": {},
   "outputs": [
    {
     "data": {
      "text/plain": [
       "6"
      ]
     },
     "execution_count": 35,
     "metadata": {},
     "output_type": "execute_result"
    }
   ],
   "source": [
    "k"
   ]
  },
  {
   "cell_type": "code",
   "execution_count": 36,
   "id": "2aca80ad",
   "metadata": {},
   "outputs": [
    {
     "data": {
      "text/plain": [
       "24"
      ]
     },
     "execution_count": 36,
     "metadata": {},
     "output_type": "execute_result"
    }
   ],
   "source": [
    "n"
   ]
  },
  {
   "cell_type": "code",
   "execution_count": null,
   "id": "56265859",
   "metadata": {},
   "outputs": [],
   "source": []
  }
 ],
 "metadata": {
  "kernelspec": {
   "display_name": "Python 3 (ipykernel)",
   "language": "python",
   "name": "python3"
  },
  "language_info": {
   "codemirror_mode": {
    "name": "ipython",
    "version": 3
   },
   "file_extension": ".py",
   "mimetype": "text/x-python",
   "name": "python",
   "nbconvert_exporter": "python",
   "pygments_lexer": "ipython3",
   "version": "3.10.9"
  }
 },
 "nbformat": 4,
 "nbformat_minor": 5
}
